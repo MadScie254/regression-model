{
 "cells": [
  {
   "cell_type": "markdown",
   "id": "a7ab2f71-56e4-4840-a835-8acdcdd5a986",
   "metadata": {},
   "source": [
    "# Predicting Transaction Volumes in Kenya's Electronic Payment System: A Regression Analysis Incorporating GDP and Inflation Data\r\n",
    "\r\n",
    "**Problem Statement:**\r\n",
    "\r\n",
    "In recent years, Kenya has experienced significant growth in electronic payment transactions facilitated through the Kenya Electronic Payment Settlement System Real-Time Gross Settlement (KEPSSRTGS). Understanding the factors influencing transaction volumes and values in the KEPSSRTGS system is essential for financial institutions and policymakers to make informed decisions and optimize financial operations.\r\n",
    "\r\n",
    "To this end, the aim of this project is to build a regression model that predicts transaction volumes or values in the KEPSSRTGS system based on economic indicators, specifically GDP and inflation rates in Kenya. By analyzing the relationship between transaction activity, GDP growth, and inflation, we can identify the key drivers of electronic payment transactions and anticipate future transaction trends.\r\n",
    "\r\n",
    "**Dataset:**\r\n",
    "- We have access to three datasets: one containing information about transaction volumes and values related to KEPSSRTGS, another containing GDP data for Kenya, and a third containing inflation rates in Kenya. Each dataset spans from January 2013 to February 2024, with monthly granularity.\r\n",
    "\r\n",
    "**Objective:**\r\n",
    "- Develop a regression model that predicts transaction volumes or values in the KEPSSRTGS system based on GDP and inflation data.\r\n",
    "- Understand the impact of GDP growth and inflation on transaction activity in the KEPSSRTGS system.\r\n",
    "- Provide insights and recommendations for financial institutions and policymakers to optimize electronic payment operations and promote financial stability.\r\n",
    "\r\n",
    "**Approach:**\r\n",
    "1. **Data Preprocessing**: Clean and preprocess the datasets, handle missing values, outliers, and ensure compatibility for merging.\r\n",
    "2. **Merge Datasets**: Combine the datasets based on the \"Year\" and \"Month\" columns to create a unified dataset.\r\n",
    "3. **Feature Engineering**: Create new features or derive additional information from the merged dataset, such as GDP growth rate and inflation trends.\r\n",
    "4. **Model Selection**: Choose a regression algorithm suitable for the dataset, such as linear regression or ridge regression.\r\n",
    "5. **Model Training**: Train the regression model using the merged dataset, with transaction volumes/values as the dependent variable and GDP, inflation, and other relevant features as independent variables.\r\n",
    "6. **Model Evaluation**: Evaluate the performance of the trained regression model using metrics such as mean squared error (MSE) or R-squared.\r\n",
    "7. **Fine-Tuning and Validation**: Fine-tune the model parameters if necessary and validate the model's performance using cross-validation techniques.\r\n",
    "8. **Prediction and Interpretation**: Use the trained model to make predictions on new or future data, and interpret the results to understand the impact of GDP and inflation on transaction activity.\r\n",
    "\r\n",
    "**Expected Outcome:**\r\n",
    "- A regression model that accurately predicts transaction volumes or values in the KEPSSRTGS system based on GDP and inflation data.\r\n",
    "- Insights into the relationship between transaction activity, GDP growth, and inflation in Kenya.\r\n",
    "- Recommendations for financial institutions and policymakers to optimize electronic payment operations andconomic growth and development.way towards a brighter future.nomic growth and development."
   ]
  },
  {
   "cell_type": "markdown",
   "id": "a14a8d8e-4a5c-4cd9-9035-31f6e7b736f6",
   "metadata": {},
   "source": [
    "## Data Cleaning"
   ]
  },
  {
   "cell_type": "code",
   "execution_count": 1,
   "id": "55ec1cde-4f00-4303-8f6a-d3f610c22ca0",
   "metadata": {},
   "outputs": [
    {
     "name": "stdout",
     "output_type": "stream",
     "text": [
      "Cleaning Inflation Rates dataset...\n",
      "No missing values found.\n",
      "No outlier handling implemented.\n",
      "No inconsistencies addressed.\n",
      "Inflation Rates dataset cleaned.\n",
      "\n",
      "Cleaning Annual GDP dataset...\n",
      "No missing values found.\n",
      "No outlier handling implemented.\n",
      "No inconsistencies addressed.\n",
      "Annual GDP dataset cleaned.\n",
      "\n",
      "Cleaning KEPSSRTGS dataset...\n",
      "No missing values found.\n",
      "No outlier handling implemented.\n",
      "No inconsistencies addressed.\n",
      "KEPSSRTGS dataset cleaned.\n"
     ]
    }
   ],
   "source": [
    "import pandas as pd\n",
    "\n",
    "# Load the datasets\n",
    "inflation_data = pd.read_csv('inflation_rates.csv')\n",
    "gdp_data = pd.read_csv('annual_gdp.csv')\n",
    "kepssrtgs_data = pd.read_csv('kepssrtgs.csv')\n",
    "\n",
    "# Function to handle missing values\n",
    "def handle_missing_values(df):\n",
    "    # Check for missing values\n",
    "    missing_values = df.isnull().sum()\n",
    "    if missing_values.sum() > 0:\n",
    "        print(\"Handling missing values...\")\n",
    "        # Impute missing values using forward filling\n",
    "        df.fillna(method='ffill', inplace=True)\n",
    "        print(\"Missing values handled.\")\n",
    "    else:\n",
    "        print(\"No missing values found.\")\n",
    "\n",
    "# Function to handle outliers\n",
    "def handle_outliers(df):\n",
    "    # Outlier detection and handling code can be added here based on specific requirements.\n",
    "    # For simplicity, let's assume outliers are not a concern in this example.\n",
    "    print(\"No outlier handling implemented.\")\n",
    "\n",
    "# Function to address inconsistencies\n",
    "def address_inconsistencies(df):\n",
    "    # Check for inconsistencies in data formats or values\n",
    "    # No specific inconsistencies identified in this example.\n",
    "    print(\"No inconsistencies addressed.\")\n",
    "\n",
    "# Clean Inflation Rates dataset\n",
    "print(\"Cleaning Inflation Rates dataset...\")\n",
    "handle_missing_values(inflation_data)\n",
    "handle_outliers(inflation_data)\n",
    "address_inconsistencies(inflation_data)\n",
    "print(\"Inflation Rates dataset cleaned.\\n\")\n",
    "\n",
    "# Clean Annual GDP dataset\n",
    "print(\"Cleaning Annual GDP dataset...\")\n",
    "handle_missing_values(gdp_data)\n",
    "handle_outliers(gdp_data)\n",
    "address_inconsistencies(gdp_data)\n",
    "print(\"Annual GDP dataset cleaned.\\n\")\n",
    "\n",
    "# Clean KEPSSRTGS dataset\n",
    "print(\"Cleaning KEPSSRTGS dataset...\")\n",
    "handle_missing_values(kepssrtgs_data)\n",
    "handle_outliers(kepssrtgs_data)\n",
    "address_inconsistencies(kepssrtgs_data)\n",
    "print(\"KEPSSRTGS dataset cleaned.\")"
   ]
  },
  {
   "cell_type": "markdown",
   "id": "3483af19-dcc7-47b2-ba9a-1ccc57b7e490",
   "metadata": {},
   "source": [
    "## Merging Datasets"
   ]
  },
  {
   "cell_type": "code",
   "execution_count": 2,
   "id": "882bad82-453c-4f8b-966e-f3bf9441a64d",
   "metadata": {},
   "outputs": [
    {
     "name": "stdout",
     "output_type": "stream",
     "text": [
      "Column names in inflation_data: Index(['Year', 'Month', 'Annual Average Inflation', '12-Month Inflation'], dtype='object')\n",
      "Column names in gdp_data: Index(['Year', 'Nominal GDP prices (Ksh Million)', 'Annual GDP growth (%)',\n",
      "       'Real GDP prices (Ksh Million)'],\n",
      "      dtype='object')\n",
      "Column names in kepssrtgs_data: Index(['Year', 'Month    ', 'Volume', 'Value (Kshs Millions)'], dtype='object')\n"
     ]
    }
   ],
   "source": [
    "# Check column names in each dataset\n",
    "print(\"Column names in inflation_data:\", inflation_data.columns)\n",
    "print(\"Column names in gdp_data:\", gdp_data.columns)\n",
    "print(\"Column names in kepssrtgs_data:\", kepssrtgs_data.columns)"
   ]
  },
  {
   "cell_type": "code",
   "execution_count": 3,
   "id": "31ebac13-94d5-4794-a869-6f959f9a88ff",
   "metadata": {},
   "outputs": [
    {
     "name": "stdout",
     "output_type": "stream",
     "text": [
      "Merged Dataset Information:\n",
      "<class 'pandas.core.frame.DataFrame'>\n",
      "RangeIndex: 211 entries, 0 to 210\n",
      "Data columns (total 9 columns):\n",
      " #   Column                            Non-Null Count  Dtype  \n",
      "---  ------                            --------------  -----  \n",
      " 0   Year                              211 non-null    int64  \n",
      " 1   Month                             211 non-null    object \n",
      " 2   Annual Average Inflation          211 non-null    float64\n",
      " 3   12-Month Inflation                211 non-null    float64\n",
      " 4   Nominal GDP prices (Ksh Million)  211 non-null    object \n",
      " 5   Annual GDP growth (%)             211 non-null    float64\n",
      " 6   Real GDP prices (Ksh Million)     211 non-null    object \n",
      " 7   Volume                            211 non-null    object \n",
      " 8   Value (Kshs Millions)             211 non-null    float64\n",
      "dtypes: float64(4), int64(1), object(4)\n",
      "memory usage: 15.0+ KB\n",
      "None\n",
      "\n",
      "First few rows of the merged dataset:\n",
      "   Year      Month  Annual Average Inflation  12-Month Inflation  \\\n",
      "0  2022   December                      7.66                9.06   \n",
      "1  2022   November                      7.38                9.48   \n",
      "2  2022    October                      7.48                9.59   \n",
      "3  2022  September                      6.81                9.18   \n",
      "4  2022     August                      6.61                8.53   \n",
      "\n",
      "  Nominal GDP prices (Ksh Million)  Annual GDP growth (%)  \\\n",
      "0                       13,483,003                    4.8   \n",
      "1                       13,483,003                    4.8   \n",
      "2                       13,483,003                    4.8   \n",
      "3                       13,483,003                    4.8   \n",
      "4                       13,483,003                    4.8   \n",
      "\n",
      "  Real GDP prices (Ksh Million)   Volume  Value (Kshs Millions)  \n",
      "0                     9,851,329  651,484             3346761.00  \n",
      "1                     9,851,329  637,546             3350286.75  \n",
      "2                     9,851,329  598,925             2989334.81  \n",
      "3                     9,851,329  609,514             3376713.00  \n",
      "4                     9,851,329  587,315             3376618.49  \n"
     ]
    }
   ],
   "source": [
    "# Remove leading and trailing spaces from column names in KEPSSRTGS dataset\n",
    "kepssrtgs_data.columns = kepssrtgs_data.columns.str.strip()\n",
    "\n",
    "# Merge datasets based on 'Year' and 'Month'\n",
    "merged_data = inflation_data.merge(gdp_data, on=['Year'], suffixes=('_inflation', '_gdp'))\n",
    "merged_data = merged_data.merge(kepssrtgs_data, on=['Year', 'Month'])\n",
    "\n",
    "# Display merged dataset information\n",
    "print(\"Merged Dataset Information:\")\n",
    "print(merged_data.info())\n",
    "\n",
    "# Display first few rows of the merged dataset\n",
    "print(\"\\nFirst few rows of the merged dataset:\")\n",
    "print(merged_data.head())"
   ]
  },
  {
   "cell_type": "markdown",
   "id": "0c5d24da-1819-4845-8cba-3aa0b007f8df",
   "metadata": {},
   "source": [
    "The datasets have been successfully merged, and the merged dataset now contains 211 entries with 9 columns. Here's a brief overview of the merged dataset:\r\n",
    "\r\n",
    "- The \"Year\" and \"Month\" columns represent the year and month of the recorded data, respectively.\r\n",
    "- The \"Annual Average Inflation\" and \"12-Month Inflation\" columns contain inflation rate data.\r\n",
    "- The \"Nominal GDP prices (Ksh Million)\" and \"Real GDP prices (Ksh Million)\" columns represent GDP values at current market prices and adjusted for inflation, respectively.\r\n",
    "- The \"Annual GDP growth (%)\" column represents the annual GDP growth rate.\r\n",
    "- The \"Volume\" column represents the number of transactions made during a particular month.\r\n",
    "- The \"Value (Kshs Millions)\" column represents the total value of transactions made during a specific month, measured in Kenyan Shillings (Kshs) millions.\r\n",
    "\r\n",
    "The data types of the columns seem appropriate, except for the columns \"Nominal GDP prices (Ksh Million)\" and \"Real GDP prices (Ksh Million)\" which are currently of type object. These columns should be converted to numeric type for further analysis.\r\n",
    "\r\n",
    "Let's convert these columns to numeric type and proceed with further pretional preprocessing steps!"
   ]
  },
  {
   "cell_type": "code",
   "execution_count": 4,
   "id": "3c4c7f35-318b-4f39-811f-c523ba4f5b53",
   "metadata": {},
   "outputs": [
    {
     "name": "stdout",
     "output_type": "stream",
     "text": [
      "\n",
      "Data types of columns after conversion:\n",
      "Year                                  int64\n",
      "Month                                object\n",
      "Annual Average Inflation            float64\n",
      "12-Month Inflation                  float64\n",
      "Nominal GDP prices (Ksh Million)    float64\n",
      "Annual GDP growth (%)               float64\n",
      "Real GDP prices (Ksh Million)       float64\n",
      "Volume                               object\n",
      "Value (Kshs Millions)               float64\n",
      "dtype: object\n",
      "\n",
      "First few rows of the merged dataset after conversion:\n",
      "   Year      Month  Annual Average Inflation  12-Month Inflation  \\\n",
      "0  2022   December                      7.66                9.06   \n",
      "1  2022   November                      7.38                9.48   \n",
      "2  2022    October                      7.48                9.59   \n",
      "3  2022  September                      6.81                9.18   \n",
      "4  2022     August                      6.61                8.53   \n",
      "\n",
      "   Nominal GDP prices (Ksh Million)  Annual GDP growth (%)  \\\n",
      "0                        13483003.0                    4.8   \n",
      "1                        13483003.0                    4.8   \n",
      "2                        13483003.0                    4.8   \n",
      "3                        13483003.0                    4.8   \n",
      "4                        13483003.0                    4.8   \n",
      "\n",
      "   Real GDP prices (Ksh Million)   Volume  Value (Kshs Millions)  \n",
      "0                      9851329.0  651,484             3346761.00  \n",
      "1                      9851329.0  637,546             3350286.75  \n",
      "2                      9851329.0  598,925             2989334.81  \n",
      "3                      9851329.0  609,514             3376713.00  \n",
      "4                      9851329.0  587,315             3376618.49  \n"
     ]
    }
   ],
   "source": [
    "# Convert 'Nominal GDP prices (Ksh Million)' and 'Real GDP prices (Ksh Million)' columns to numeric\n",
    "merged_data['Nominal GDP prices (Ksh Million)'] = merged_data['Nominal GDP prices (Ksh Million)'].str.replace(',', '').astype(float)\n",
    "merged_data['Real GDP prices (Ksh Million)'] = merged_data['Real GDP prices (Ksh Million)'].str.replace(',', '').astype(float)\n",
    "\n",
    "# Display data types of columns after conversion\n",
    "print(\"\\nData types of columns after conversion:\")\n",
    "print(merged_data.dtypes)\n",
    "\n",
    "# Display first few rows of the merged dataset after conversion\n",
    "print(\"\\nFirst few rows of the merged dataset after conversion:\")\n",
    "print(merged_data.head())"
   ]
  },
  {
   "cell_type": "markdown",
   "id": "ea1c86fc-b08f-490d-acf7-b76c62baae67",
   "metadata": {},
   "source": [
    "# Explatory Data Analysis"
   ]
  },
  {
   "cell_type": "code",
   "execution_count": 5,
   "id": "cda36784-e7c4-463e-8fca-5c73738b14bd",
   "metadata": {},
   "outputs": [
    {
     "name": "stdout",
     "output_type": "stream",
     "text": [
      "\n",
      "Correlation Matrix:\n",
      "                                      Year  Annual Average Inflation  \\\n",
      "Year                              1.000000                 -0.359068   \n",
      "Annual Average Inflation         -0.359068                  1.000000   \n",
      "12-Month Inflation               -0.218163                  0.588700   \n",
      "Nominal GDP prices (Ksh Million)  0.990503                 -0.353338   \n",
      "Annual GDP growth (%)            -0.138547                 -0.282722   \n",
      "Real GDP prices (Ksh Million)     0.934755                 -0.248519   \n",
      "Value (Kshs Millions)             0.923139                 -0.335314   \n",
      "\n",
      "                                  12-Month Inflation  \\\n",
      "Year                                       -0.218163   \n",
      "Annual Average Inflation                    0.588700   \n",
      "12-Month Inflation                          1.000000   \n",
      "Nominal GDP prices (Ksh Million)           -0.233589   \n",
      "Annual GDP growth (%)                      -0.335930   \n",
      "Real GDP prices (Ksh Million)              -0.214591   \n",
      "Value (Kshs Millions)                      -0.080174   \n",
      "\n",
      "                                  Nominal GDP prices (Ksh Million)  \\\n",
      "Year                                                      0.990503   \n",
      "Annual Average Inflation                                 -0.353338   \n",
      "12-Month Inflation                                       -0.233589   \n",
      "Nominal GDP prices (Ksh Million)                          1.000000   \n",
      "Annual GDP growth (%)                                    -0.100012   \n",
      "Real GDP prices (Ksh Million)                             0.905855   \n",
      "Value (Kshs Millions)                                     0.903102   \n",
      "\n",
      "                                  Annual GDP growth (%)  \\\n",
      "Year                                          -0.138547   \n",
      "Annual Average Inflation                      -0.282722   \n",
      "12-Month Inflation                            -0.335930   \n",
      "Nominal GDP prices (Ksh Million)              -0.100012   \n",
      "Annual GDP growth (%)                          1.000000   \n",
      "Real GDP prices (Ksh Million)                 -0.084181   \n",
      "Value (Kshs Millions)                         -0.171585   \n",
      "\n",
      "                                  Real GDP prices (Ksh Million)  \\\n",
      "Year                                                   0.934755   \n",
      "Annual Average Inflation                              -0.248519   \n",
      "12-Month Inflation                                    -0.214591   \n",
      "Nominal GDP prices (Ksh Million)                       0.905855   \n",
      "Annual GDP growth (%)                                 -0.084181   \n",
      "Real GDP prices (Ksh Million)                          1.000000   \n",
      "Value (Kshs Millions)                                  0.871020   \n",
      "\n",
      "                                  Value (Kshs Millions)  \n",
      "Year                                           0.923139  \n",
      "Annual Average Inflation                      -0.335314  \n",
      "12-Month Inflation                            -0.080174  \n",
      "Nominal GDP prices (Ksh Million)               0.903102  \n",
      "Annual GDP growth (%)                         -0.171585  \n",
      "Real GDP prices (Ksh Million)                  0.871020  \n",
      "Value (Kshs Millions)                          1.000000  \n"
     ]
    }
   ],
   "source": [
    "# Exclude non-numeric columns from correlation analysis\n",
    "numeric_columns = merged_data.select_dtypes(include=['float64', 'int64']).columns\n",
    "\n",
    "# Correlation matrix\n",
    "correlation_matrix = merged_data[numeric_columns].corr()\n",
    "print(\"\\nCorrelation Matrix:\")\n",
    "print(correlation_matrix)"
   ]
  },
  {
   "cell_type": "markdown",
   "id": "0efa9276-e920-4161-a169-4e51ad27c857",
   "metadata": {},
   "source": [
    "Here's the correlation matrix for the numeric variables in the merged dataset:\n",
    "\n",
    "\\\n",
    "\\begin{array}{|c|c|c|c|c|c|c|}\n",
    "\\hline\n",
    "& \\text{Year} & \\text{Annual Average Inflation} & \\text{12-Month Inflation} & \\text{Nominal GDP} & \\text{Annual GDP} & \\text{Real GDP} & \\text{Value} \\\\\n",
    "\\hline\n",
    "\\text{Year} & 1.00 & -0.36 & -0.22 & 0.99 & -0.14 & 0.93 & 0.92 \\\\\n",
    "\\text{Annual Average Inflation} & -0.36 & 1.00 & 0.59 & -0.35 & -0.28 & -0.25 & -0.34 \\\\\n",
    "\\text{12-Month Inflation} & -0.22 & 0.59 & 1.00 & -0.23 & -0.34 & -0.21 & -0.08 \\\\\n",
    "\\text{Nominal GDP} & 0.99 & -0.35 & -0.23 & 1.00 & -0.10 & 0.91 & 0.90 \\\\\n",
    "\\text{Annual GDP} & -0.14 & -0.28 & -0.34 & -0.10 & 1.00 & -0.08 & -0.17 \\\\\n",
    "\\text{Real GDP} & 0.93 & -0.25 & -0.21 & 0.91 & -0.08 & 1.00 & 0.87 \\\\\n",
    "\\text{Value} & 0.92 & -0.34 & -0.08 & 0.90 & -0.17 & 0.87 & 1.00 \\\\\n",
    "\\hline\n",
    "\\end{array}\n",
    "\n",
    "\n",
    "Each cell in the matrix represents the correlation coefficient between two variables. The values range from -1 to 1, where:\n",
    "\n",
    "- 1 indicates a perfect positive correlation,\n",
    "- -1 indicates a perfect negative correlation, and\n",
    "- 0 indicates no correlation.\n",
    "\n",
    "From the correlation matrix, we can observe:\n",
    "\n",
    "- Strong positive correlations between \"Year\" and \"Nominal GDP\", \"Real GDP\", and \"Value\", indicating that these variables tend to increase together over time.\n",
    "- Moderate negative correlations between \"Annual Average Inflation\" and \"Nominal GDP\", \"Annual GDP\", \"Real GDP\", and \"Value\", suggesting that as inflation increases, these economic indicators tend to decrease.\n",
    "- Moderate positive correlations between \"Annual GDP\" and \"Real GDP\", \"Value\", indicating a positive relationship between annual GDP growth and these variables."
   ]
  },
  {
   "cell_type": "markdown",
   "id": "8d47da26-d8a3-4d85-9fbb-3f210fe7ba9b",
   "metadata": {},
   "source": [
    "#### Line plot for transaction volume and value over time"
   ]
  },
  {
   "cell_type": "code",
   "execution_count": 6,
   "id": "86b8a741-2d3b-4e72-b256-66500c87c4ce",
   "metadata": {},
   "outputs": [
    {
     "data": {
      "image/png": "[encoded data removed]",
      "text/plain": [
       "<Figure size 1200x600 with 1 Axes>"
      ]
     },
     "metadata": {},
     "output_type": "display_data"
    }
   ],
   "source": [
    "import matplotlib.pyplot as plt\n",
    "\n",
    "# Line plot for transaction volume and value over time\n",
    "plt.figure(figsize=(12, 6))\n",
    "plt.plot(merged_data['Year'], merged_data['Volume'], label='Transaction Volume', color='blue')\n",
    "plt.plot(merged_data['Year'], merged_data['Value (Kshs Millions)'], label='Transaction Value', color='red')\n",
    "plt.xlabel('Year')\n",
    "plt.ylabel('Volume / Value (Kshs Millions)')\n",
    "plt.title('Transaction Volume and Value Over Time')\n",
    "plt.legend()\n",
    "plt.grid(True)\n",
    "plt.show()"
   ]
  },
  {
   "cell_type": "markdown",
   "id": "af24c3a4-6c38-4d9b-8021-25b5ecfd475a",
   "metadata": {},
   "source": [
    "For our next visualization, let's create histograms to visualize the distribution of variables such as inflation rates, GDP growth, transaction volume, and value. Histograms will allow us to observe the frequency distribution of these variables and understand their underlying patterns.\r\n",
    "\r\n",
    "We'll create histograms for the following variables:\r\n",
    "1. Annual Average Inflation\r\n",
    "2. Annual GDP growth (%)\r\n",
    "3. Transaction Volume\r\n",
    "4. Transactionased on your preferences or areas of interest!"
   ]
  },
  {
   "cell_type": "code",
   "execution_count": 7,
   "id": "ee10f3ae-a47e-45c8-88bb-a74052a6d51a",
   "metadata": {},
   "outputs": [
    {
     "data": {
      "image/png": "[encoded data removed]",
      "text/plain": [
       "<Figure size 1400x1000 with 4 Axes>"
      ]
     },
     "metadata": {},
     "output_type": "display_data"
    }
   ],
   "source": [
    "# Histograms for inflation rates, GDP growth, transaction volume, and value\n",
    "plt.figure(figsize=(14, 10))\n",
    "\n",
    "# Inflation rates\n",
    "plt.subplot(2, 2, 1)\n",
    "plt.hist(merged_data['Annual Average Inflation'], bins=15, color='skyblue', edgecolor='black')\n",
    "plt.title('Distribution of Annual Average Inflation')\n",
    "plt.xlabel('Inflation Rate (%)')\n",
    "plt.ylabel('Frequency')\n",
    "\n",
    "# GDP growth\n",
    "plt.subplot(2, 2, 2)\n",
    "plt.hist(merged_data['Annual GDP growth (%)'], bins=15, color='salmon', edgecolor='black')\n",
    "plt.title('Distribution of Annual GDP Growth')\n",
    "plt.xlabel('GDP Growth Rate (%)')\n",
    "plt.ylabel('Frequency')\n",
    "\n",
    "# Transaction volume\n",
    "plt.subplot(2, 2, 3)\n",
    "plt.hist(merged_data['Volume'], bins=15, color='lightgreen', edgecolor='black')\n",
    "plt.title('Distribution of Transaction Volume')\n",
    "plt.xlabel('Volume')\n",
    "plt.ylabel('Frequency')\n",
    "\n",
    "# Transaction value\n",
    "plt.subplot(2, 2, 4)\n",
    "plt.hist(merged_data['Value (Kshs Millions)'], bins=15, color='gold', edgecolor='black')\n",
    "plt.title('Distribution of Transaction Value')\n",
    "plt.xlabel('Value (Kshs Millions)')\n",
    "plt.ylabel('Frequency')\n",
    "\n",
    "plt.tight_layout()\n",
    "plt.show()"
   ]
  },
  {
   "cell_type": "markdown",
   "id": "8311b936-327d-4cf3-adaf-2229b4ca1c9f",
   "metadata": {},
   "source": [
    "For our next visualization, let's create scatter plots to explore potential relationships between variables. Scatter plots are useful for identifying correlations or patterns between two continuous variables.\r\n",
    "\r\n",
    "We'll create scatter plots to examine the relationships between the following pairs of variables:\r\n",
    "1. Annual Average Inflation vs. Transaction Volume\r\n",
    "2. Annual GDP Growth vs. Transaction Volume\r\n",
    "3. Annual Average Inflation vs. Transaction Value\r\n",
    "4. Annual GDP Growth vs. Transactionlyses or visualizations you'd like to explore!"
   ]
  },
  {
   "cell_type": "code",
   "execution_count": 10,
   "id": "8d248cc0-4cee-4b98-81bc-be8cdda9c94c",
   "metadata": {},
   "outputs": [
    {
     "data": {
      "text/html": [
       "\n",
       "<style>\n",
       "  #altair-viz-c192656ea6a142d7a8841fa69ec5d587.vega-embed {\n",
       "    width: 100%;\n",
       "    display: flex;\n",
       "  }\n",
       "\n",
       "  #altair-viz-c192656ea6a142d7a8841fa69ec5d587.vega-embed details,\n",
       "  #altair-viz-c192656ea6a142d7a8841fa69ec5d587.vega-embed details summary {\n",
       "    position: relative;\n",
       "  }\n",
       "</style>\n",
       "<div id=\"altair-viz-c192656ea6a142d7a8841fa69ec5d587\"></div>\n",
       "<script type=\"text/javascript\">\n",
       "  var VEGA_DEBUG = (typeof VEGA_DEBUG == \"undefined\") ? {} : VEGA_DEBUG;\n",
       "  (function(spec, embedOpt){\n",
       "    let outputDiv = document.currentScript.previousElementSibling;\n",
       "    if (outputDiv.id !== \"altair-viz-c192656ea6a142d7a8841fa69ec5d587\") {\n",
       "      outputDiv = document.getElementById(\"altair-viz-c192656ea6a142d7a8841fa69ec5d587\");\n",
       "    }\n",
       "    const paths = {\n",
       "      \"vega\": \"https://cdn.jsdelivr.net/npm/vega@5?noext\",\n",
       "      \"vega-lib\": \"https://cdn.jsdelivr.net/npm/vega-lib?noext\",\n",
       "      \"vega-lite\": \"https://cdn.jsdelivr.net/npm/vega-lite@5.17.0?noext\",\n",
       "      \"vega-embed\": \"https://cdn.jsdelivr.net/npm/vega-embed@6?noext\",\n",
       "    };\n",
       "\n",
       "    function maybeLoadScript(lib, version) {\n",
       "      var key = `${lib.replace(\"-\", \"\")}_version`;\n",
       "      return (VEGA_DEBUG[key] == version) ?\n",
       "        Promise.resolve(paths[lib]) :\n",
       "        new Promise(function(resolve, reject) {\n",
       "          var s = document.createElement('script');\n",
       "          document.getElementsByTagName(\"head\")[0].appendChild(s);\n",
       "          s.async = true;\n",
       "          s.onload = () => {\n",
       "            VEGA_DEBUG[key] = version;\n",
       "            return resolve(paths[lib]);\n",
       "          };\n",
       "          s.onerror = () => reject(`Error loading script: ${paths[lib]}`);\n",
       "          s.src = paths[lib];\n",
       "        });\n",
       "    }\n",
       "\n",
       "    function showError(err) {\n",
       "      outputDiv.innerHTML = `<div class=\"error\" style=\"color:red;\">${err}</div>`;\n",
       "      throw err;\n",
       "    }\n",
       "\n",
       "    function displayChart(vegaEmbed) {\n",
       "      vegaEmbed(outputDiv, spec, embedOpt)\n",
       "        .catch(err => showError(`Javascript Error: ${err.message}<br>This usually means there's a typo in your chart specification. See the javascript console for the full traceback.`));\n",
       "    }\n",
       "\n",
       "    if(typeof define === \"function\" && define.amd) {\n",
       "      requirejs.config({paths});\n",
       "      require([\"vega-embed\"], displayChart, err => showError(`Error loading script: ${err.message}`));\n",
       "    } else {\n",
       "      maybeLoadScript(\"vega\", \"5\")\n",
       "        .then(() => maybeLoadScript(\"vega-lite\", \"5.17.0\"))\n",
       "        .then(() => maybeLoadScript(\"vega-embed\", \"6\"))\n",
       "        .catch(showError)\n",
       "        .then(() => displayChart(vegaEmbed));\n",
       "    }\n",
       "  })({\"config\": {\"view\": {\"continuousWidth\": 300, \"continuousHeight\": 300}}, \"vconcat\": [{\"hconcat\": [{\"mark\": {\"type\": \"circle\", \"size\": 60}, \"encoding\": {\"tooltip\": [{\"field\": \"Annual Average Inflation\", \"type\": \"quantitative\"}, {\"field\": \"Volume\", \"type\": \"nominal\"}], \"x\": {\"field\": \"Annual Average Inflation\", \"type\": \"quantitative\"}, \"y\": {\"field\": \"Volume\", \"type\": \"nominal\"}}, \"title\": \"Annual Average Inflation vs. Transaction Volume\"}, {\"mark\": {\"type\": \"circle\", \"size\": 60}, \"encoding\": {\"tooltip\": [{\"field\": \"Annual GDP growth (%)\", \"type\": \"quantitative\"}, {\"field\": \"Volume\", \"type\": \"nominal\"}], \"x\": {\"field\": \"Annual GDP growth (%)\", \"type\": \"quantitative\"}, \"y\": {\"field\": \"Volume\", \"type\": \"nominal\"}}, \"title\": \"Annual GDP Growth vs. Transaction Volume\"}]}, {\"hconcat\": [{\"mark\": {\"type\": \"circle\", \"size\": 60}, \"encoding\": {\"tooltip\": [{\"field\": \"Annual Average Inflation\", \"type\": \"quantitative\"}, {\"field\": \"Value (Kshs Millions)\", \"type\": \"quantitative\"}], \"x\": {\"field\": \"Annual Average Inflation\", \"type\": \"quantitative\"}, \"y\": {\"field\": \"Value (Kshs Millions)\", \"type\": \"quantitative\"}}, \"title\": \"Annual Average Inflation vs. Transaction Value\"}, {\"mark\": {\"type\": \"circle\", \"size\": 60}, \"encoding\": {\"tooltip\": [{\"field\": \"Annual GDP growth (%)\", \"type\": \"quantitative\"}, {\"field\": \"Value (Kshs Millions)\", \"type\": \"quantitative\"}], \"x\": {\"field\": \"Annual GDP growth (%)\", \"type\": \"quantitative\"}, \"y\": {\"field\": \"Value (Kshs Millions)\", \"type\": \"quantitative\"}}, \"title\": \"Annual GDP Growth vs. Transaction Value\"}]}], \"data\": {\"name\": \"data-dc76dfe7481c7f917470a5aac7c02dbf\"}, \"$schema\": \"https://vega.github.io/schema/vega-lite/v5.17.0.json\", \"datasets\": {\"data-dc76dfe7481c7f917470a5aac7c02dbf\": [{\"Year\": 2022, \"Month\": \"December\", \"Annual Average Inflation\": 7.66, \"12-Month Inflation\": 9.06, \"Nominal GDP prices (Ksh Million)\": 13483003.0, \"Annual GDP growth (%)\": 4.8, \"Real GDP prices (Ksh Million)\": 9851329.0, \"Volume\": \"651,484\", \"Value (Kshs Millions)\": 3346761.0}, {\"Year\": 2022, \"Month\": \"November\", \"Annual Average Inflation\": 7.38, \"12-Month Inflation\": 9.48, \"Nominal GDP prices (Ksh Million)\": 13483003.0, \"Annual GDP growth (%)\": 4.8, \"Real GDP prices (Ksh Million)\": 9851329.0, \"Volume\": \"637,546\", \"Value (Kshs Millions)\": 3350286.75}, {\"Year\": 2022, \"Month\": \"October\", \"Annual Average Inflation\": 7.48, \"12-Month Inflation\": 9.59, \"Nominal GDP prices (Ksh Million)\": 13483003.0, \"Annual GDP growth (%)\": 4.8, \"Real GDP prices (Ksh Million)\": 9851329.0, \"Volume\": \"598,925\", \"Value (Kshs Millions)\": 2989334.81}, {\"Year\": 2022, \"Month\": \"September\", \"Annual Average Inflation\": 6.81, \"12-Month Inflation\": 9.18, \"Nominal GDP prices (Ksh Million)\": 13483003.0, \"Annual GDP growth (%)\": 4.8, \"Real GDP prices (Ksh Million)\": 9851329.0, \"Volume\": \"609,514\", \"Value (Kshs Millions)\": 3376713.0}, {\"Year\": 2022, \"Month\": \"August\", \"Annual Average Inflation\": 6.61, \"12-Month Inflation\": 8.53, \"Nominal GDP prices (Ksh Million)\": 13483003.0, \"Annual GDP growth (%)\": 4.8, \"Real GDP prices (Ksh Million)\": 9851329.0, \"Volume\": \"587,315\", \"Value (Kshs Millions)\": 3376618.49}, {\"Year\": 2022, \"Month\": \"July\", \"Annual Average Inflation\": 6.45, \"12-Month Inflation\": 8.32, \"Nominal GDP prices (Ksh Million)\": 13483003.0, \"Annual GDP growth (%)\": 4.8, \"Real GDP prices (Ksh Million)\": 9851329.0, \"Volume\": \"578,964\", \"Value (Kshs Millions)\": 3499539.32}, {\"Year\": 2022, \"Month\": \"June\", \"Annual Average Inflation\": 6.29, \"12-Month Inflation\": 7.91, \"Nominal GDP prices (Ksh Million)\": 13483003.0, \"Annual GDP growth (%)\": 4.8, \"Real GDP prices (Ksh Million)\": 9851329.0, \"Volume\": \"608,173\", \"Value (Kshs Millions)\": 3669498.76}, {\"Year\": 2022, \"Month\": \"May\", \"Annual Average Inflation\": 6.16, \"12-Month Inflation\": 7.08, \"Nominal GDP prices (Ksh Million)\": 13483003.0, \"Annual GDP growth (%)\": 4.8, \"Real GDP prices (Ksh Million)\": 9851329.0, \"Volume\": \"608,117\", \"Value (Kshs Millions)\": 3098910.19}, {\"Year\": 2022, \"Month\": \"April\", \"Annual Average Inflation\": 6.05, \"12-Month Inflation\": 6.47, \"Nominal GDP prices (Ksh Million)\": 13483003.0, \"Annual GDP growth (%)\": 4.8, \"Real GDP prices (Ksh Million)\": 9851329.0, \"Volume\": \"534,971\", \"Value (Kshs Millions)\": 3085538.66}, {\"Year\": 2022, \"Month\": \"March\", \"Annual Average Inflation\": 6.29, \"12-Month Inflation\": 5.56, \"Nominal GDP prices (Ksh Million)\": 13483003.0, \"Annual GDP growth (%)\": 4.8, \"Real GDP prices (Ksh Million)\": 9851329.0, \"Volume\": \"625,911\", \"Value (Kshs Millions)\": 3093312.85}, {\"Year\": 2022, \"Month\": \"February\", \"Annual Average Inflation\": 6.23, \"12-Month Inflation\": 5.08, \"Nominal GDP prices (Ksh Million)\": 13483003.0, \"Annual GDP growth (%)\": 4.8, \"Real GDP prices (Ksh Million)\": 9851329.0, \"Volume\": \"533,234\", \"Value (Kshs Millions)\": 2540790.99}, {\"Year\": 2022, \"Month\": \"January\", \"Annual Average Inflation\": 6.08, \"12-Month Inflation\": 5.39, \"Nominal GDP prices (Ksh Million)\": 13483003.0, \"Annual GDP growth (%)\": 4.8, \"Real GDP prices (Ksh Million)\": 9851329.0, \"Volume\": \"497,216\", \"Value (Kshs Millions)\": 2724434.56}, {\"Year\": 2021, \"Month\": \"December\", \"Annual Average Inflation\": 5.62, \"12-Month Inflation\": 5.73, \"Nominal GDP prices (Ksh Million)\": 12027662.0, \"Annual GDP growth (%)\": 7.6, \"Real GDP prices (Ksh Million)\": 9395942.0, \"Volume\": \"581,459\", \"Value (Kshs Millions)\": 2855526.6}, {\"Year\": 2021, \"Month\": \"November\", \"Annual Average Inflation\": 6.1, \"12-Month Inflation\": 5.8, \"Nominal GDP prices (Ksh Million)\": 12027662.0, \"Annual GDP growth (%)\": 7.6, \"Real GDP prices (Ksh Million)\": 9395942.0, \"Volume\": \"563,388\", \"Value (Kshs Millions)\": 2641584.34}, {\"Year\": 2021, \"Month\": \"October\", \"Annual Average Inflation\": 6.07, \"12-Month Inflation\": 6.45, \"Nominal GDP prices (Ksh Million)\": 12027662.0, \"Annual GDP growth (%)\": 7.6, \"Real GDP prices (Ksh Million)\": 9395942.0, \"Volume\": \"519,229\", \"Value (Kshs Millions)\": 2552135.36}, {\"Year\": 2021, \"Month\": \"September\", \"Annual Average Inflation\": 5.35, \"12-Month Inflation\": 6.91, \"Nominal GDP prices (Ksh Million)\": 12027662.0, \"Annual GDP growth (%)\": 7.6, \"Real GDP prices (Ksh Million)\": 9395942.0, \"Volume\": \"542,354\", \"Value (Kshs Millions)\": 3218315.04}, {\"Year\": 2021, \"Month\": \"August\", \"Annual Average Inflation\": 5.71, \"12-Month Inflation\": 6.57, \"Nominal GDP prices (Ksh Million)\": 12027662.0, \"Annual GDP growth (%)\": 7.6, \"Real GDP prices (Ksh Million)\": 9395942.0, \"Volume\": \"524,379\", \"Value (Kshs Millions)\": 2931717.99}, {\"Year\": 2021, \"Month\": \"July\", \"Annual Average Inflation\": 5.53, \"12-Month Inflation\": 6.55, \"Nominal GDP prices (Ksh Million)\": 12027662.0, \"Annual GDP growth (%)\": 7.6, \"Real GDP prices (Ksh Million)\": 9395942.0, \"Volume\": \"565,811\", \"Value (Kshs Millions)\": 3074522.42}, {\"Year\": 2021, \"Month\": \"June\", \"Annual Average Inflation\": 5.35, \"12-Month Inflation\": 6.32, \"Nominal GDP prices (Ksh Million)\": 12027662.0, \"Annual GDP growth (%)\": 7.6, \"Real GDP prices (Ksh Million)\": 9395942.0, \"Volume\": \"537,416\", \"Value (Kshs Millions)\": 2959280.41}, {\"Year\": 2021, \"Month\": \"May\", \"Annual Average Inflation\": 5.2, \"12-Month Inflation\": 5.87, \"Nominal GDP prices (Ksh Million)\": 12027662.0, \"Annual GDP growth (%)\": 7.6, \"Real GDP prices (Ksh Million)\": 9395942.0, \"Volume\": \"538,347\", \"Value (Kshs Millions)\": 2842527.55}, {\"Year\": 2021, \"Month\": \"April\", \"Annual Average Inflation\": 4.66, \"12-Month Inflation\": 5.76, \"Nominal GDP prices (Ksh Million)\": 12027662.0, \"Annual GDP growth (%)\": 7.6, \"Real GDP prices (Ksh Million)\": 9395942.0, \"Volume\": \"527,596\", \"Value (Kshs Millions)\": 3022098.37}, {\"Year\": 2021, \"Month\": \"March\", \"Annual Average Inflation\": 5.17, \"12-Month Inflation\": 5.9, \"Nominal GDP prices (Ksh Million)\": 12027662.0, \"Annual GDP growth (%)\": 7.6, \"Real GDP prices (Ksh Million)\": 9395942.0, \"Volume\": \"587,474\", \"Value (Kshs Millions)\": 3171603.68}, {\"Year\": 2021, \"Month\": \"February\", \"Annual Average Inflation\": 5.16, \"12-Month Inflation\": 5.78, \"Nominal GDP prices (Ksh Million)\": 12027662.0, \"Annual GDP growth (%)\": 7.6, \"Real GDP prices (Ksh Million)\": 9395942.0, \"Volume\": \"491,391\", \"Value (Kshs Millions)\": 2655850.19}, {\"Year\": 2021, \"Month\": \"January\", \"Annual Average Inflation\": 5.74, \"12-Month Inflation\": 5.69, \"Nominal GDP prices (Ksh Million)\": 12027662.0, \"Annual GDP growth (%)\": 7.6, \"Real GDP prices (Ksh Million)\": 9395942.0, \"Volume\": \"458,636\", \"Value (Kshs Millions)\": 2620069.21}, {\"Year\": 2020, \"Month\": \"December\", \"Annual Average Inflation\": 5.41, \"12-Month Inflation\": 5.62, \"Nominal GDP prices (Ksh Million)\": 10715070.0, \"Annual GDP growth (%)\": -0.3, \"Real GDP prices (Ksh Million)\": 8733060.0, \"Volume\": \"560,998\", \"Value (Kshs Millions)\": 3159368.37}, {\"Year\": 2020, \"Month\": \"November\", \"Annual Average Inflation\": 5.53, \"12-Month Inflation\": 5.33, \"Nominal GDP prices (Ksh Million)\": 10715070.0, \"Annual GDP growth (%)\": -0.3, \"Real GDP prices (Ksh Million)\": 8733060.0, \"Volume\": \"479,554\", \"Value (Kshs Millions)\": 2597017.0}, {\"Year\": 2020, \"Month\": \"October\", \"Annual Average Inflation\": 5.67, \"12-Month Inflation\": 4.84, \"Nominal GDP prices (Ksh Million)\": 10715070.0, \"Annual GDP growth (%)\": -0.3, \"Real GDP prices (Ksh Million)\": 8733060.0, \"Volume\": \"490,835\", \"Value (Kshs Millions)\": 2740070.87}, {\"Year\": 2020, \"Month\": \"September\", \"Annual Average Inflation\": 5.79, \"12-Month Inflation\": 4.2, \"Nominal GDP prices (Ksh Million)\": 10715070.0, \"Annual GDP growth (%)\": -0.3, \"Real GDP prices (Ksh Million)\": 8733060.0, \"Volume\": \"476,363\", \"Value (Kshs Millions)\": 2972816.73}, {\"Year\": 2020, \"Month\": \"August\", \"Annual Average Inflation\": 5.87, \"12-Month Inflation\": 4.36, \"Nominal GDP prices (Ksh Million)\": 10715070.0, \"Annual GDP growth (%)\": -0.3, \"Real GDP prices (Ksh Million)\": 8733060.0, \"Volume\": \"477,629\", \"Value (Kshs Millions)\": 2726800.79}, {\"Year\": 2020, \"Month\": \"July\", \"Annual Average Inflation\": 6.01, \"12-Month Inflation\": 4.36, \"Nominal GDP prices (Ksh Million)\": 10715070.0, \"Annual GDP growth (%)\": -0.3, \"Real GDP prices (Ksh Million)\": 8733060.0, \"Volume\": \"454,281\", \"Value (Kshs Millions)\": 3323518.6}, {\"Year\": 2020, \"Month\": \"June\", \"Annual Average Inflation\": 6.16, \"12-Month Inflation\": 4.59, \"Nominal GDP prices (Ksh Million)\": 10715070.0, \"Annual GDP growth (%)\": -0.3, \"Real GDP prices (Ksh Million)\": 8733060.0, \"Volume\": \"400,176\", \"Value (Kshs Millions)\": 2586488.35}, {\"Year\": 2020, \"Month\": \"May\", \"Annual Average Inflation\": 6.18, \"12-Month Inflation\": 5.33, \"Nominal GDP prices (Ksh Million)\": 10715070.0, \"Annual GDP growth (%)\": -0.3, \"Real GDP prices (Ksh Million)\": 8733060.0, \"Volume\": \"394,549\", \"Value (Kshs Millions)\": 2251403.0}, {\"Year\": 2020, \"Month\": \"April\", \"Annual Average Inflation\": 6.03, \"12-Month Inflation\": 6.01, \"Nominal GDP prices (Ksh Million)\": 10715070.0, \"Annual GDP growth (%)\": -0.3, \"Real GDP prices (Ksh Million)\": 8733060.0, \"Volume\": \"370,858\", \"Value (Kshs Millions)\": 2400761.23}, {\"Year\": 2020, \"Month\": \"March\", \"Annual Average Inflation\": 5.84, \"12-Month Inflation\": 5.84, \"Nominal GDP prices (Ksh Million)\": 10715070.0, \"Annual GDP growth (%)\": -0.3, \"Real GDP prices (Ksh Million)\": 8733060.0, \"Volume\": \"402,925\", \"Value (Kshs Millions)\": 3076602.0}, {\"Year\": 2020, \"Month\": \"February\", \"Annual Average Inflation\": 5.72, \"12-Month Inflation\": 7.17, \"Nominal GDP prices (Ksh Million)\": 10715070.0, \"Annual GDP growth (%)\": -0.3, \"Real GDP prices (Ksh Million)\": 8733060.0, \"Volume\": \"395,838\", \"Value (Kshs Millions)\": 2368535.036}, {\"Year\": 2020, \"Month\": \"January\", \"Annual Average Inflation\": 5.29, \"12-Month Inflation\": 5.78, \"Nominal GDP prices (Ksh Million)\": 10715070.0, \"Annual GDP growth (%)\": -0.3, \"Real GDP prices (Ksh Million)\": 8733060.0, \"Volume\": \"420,871\", \"Value (Kshs Millions)\": 2857436.0}, {\"Year\": 2019, \"Month\": \"December\", \"Annual Average Inflation\": 5.2, \"12-Month Inflation\": 5.82, \"Nominal GDP prices (Ksh Million)\": 10237727.0, \"Annual GDP growth (%)\": 5.1, \"Real GDP prices (Ksh Million)\": 8756946.0, \"Volume\": \"443,026\", \"Value (Kshs Millions)\": 2786588.078}, {\"Year\": 2019, \"Month\": \"November\", \"Annual Average Inflation\": 5.19, \"12-Month Inflation\": 5.56, \"Nominal GDP prices (Ksh Million)\": 10237727.0, \"Annual GDP growth (%)\": 5.1, \"Real GDP prices (Ksh Million)\": 8756946.0, \"Volume\": \"417,148\", \"Value (Kshs Millions)\": 3120294.273}, {\"Year\": 2019, \"Month\": \"October\", \"Annual Average Inflation\": 5.19, \"12-Month Inflation\": 4.95, \"Nominal GDP prices (Ksh Million)\": 10237727.0, \"Annual GDP growth (%)\": 5.1, \"Real GDP prices (Ksh Million)\": 8756946.0, \"Volume\": \"434,677\", \"Value (Kshs Millions)\": 3102015.82}, {\"Year\": 2019, \"Month\": \"September\", \"Annual Average Inflation\": 5.24, \"12-Month Inflation\": 3.83, \"Nominal GDP prices (Ksh Million)\": 10237727.0, \"Annual GDP growth (%)\": 5.1, \"Real GDP prices (Ksh Million)\": 8756946.0, \"Volume\": \"425,119\", \"Value (Kshs Millions)\": 2840388.277}, {\"Year\": 2019, \"Month\": \"August\", \"Annual Average Inflation\": 5.4, \"12-Month Inflation\": 5.0, \"Nominal GDP prices (Ksh Million)\": 10237727.0, \"Annual GDP growth (%)\": 5.1, \"Real GDP prices (Ksh Million)\": 8756946.0, \"Volume\": \"409,291\", \"Value (Kshs Millions)\": 2724207.658}, {\"Year\": 2019, \"Month\": \"July\", \"Annual Average Inflation\": 5.32, \"12-Month Inflation\": 6.27, \"Nominal GDP prices (Ksh Million)\": 10237727.0, \"Annual GDP growth (%)\": 5.1, \"Real GDP prices (Ksh Million)\": 8756946.0, \"Volume\": \"455,526\", \"Value (Kshs Millions)\": 3115280.275}, {\"Year\": 2019, \"Month\": \"June\", \"Annual Average Inflation\": 5.16, \"12-Month Inflation\": 5.7, \"Nominal GDP prices (Ksh Million)\": 10237727.0, \"Annual GDP growth (%)\": 5.1, \"Real GDP prices (Ksh Million)\": 8756946.0, \"Volume\": \"376,260\", \"Value (Kshs Millions)\": 2264569.911}, {\"Year\": 2019, \"Month\": \"May\", \"Annual Average Inflation\": 5.04, \"12-Month Inflation\": 4.49, \"Nominal GDP prices (Ksh Million)\": 10237727.0, \"Annual GDP growth (%)\": 5.1, \"Real GDP prices (Ksh Million)\": 8756946.0, \"Volume\": \"441,315\", \"Value (Kshs Millions)\": 2703059.679}, {\"Year\": 2019, \"Month\": \"April\", \"Annual Average Inflation\": 4.91, \"12-Month Inflation\": 6.58, \"Nominal GDP prices (Ksh Million)\": 10237727.0, \"Annual GDP growth (%)\": 5.1, \"Real GDP prices (Ksh Million)\": 8756946.0, \"Volume\": \"397,647\", \"Value (Kshs Millions)\": 2570908.145}, {\"Year\": 2019, \"Month\": \"April\", \"Annual Average Inflation\": 4.91, \"12-Month Inflation\": 6.58, \"Nominal GDP prices (Ksh Million)\": 10237727.0, \"Annual GDP growth (%)\": 5.1, \"Real GDP prices (Ksh Million)\": 8756946.0, \"Volume\": \"397,647\", \"Value (Kshs Millions)\": 2570908.145}, {\"Year\": 2019, \"Month\": \"March\", \"Annual Average Inflation\": 4.67, \"12-Month Inflation\": 4.35, \"Nominal GDP prices (Ksh Million)\": 10237727.0, \"Annual GDP growth (%)\": 5.1, \"Real GDP prices (Ksh Million)\": 8756946.0, \"Volume\": \"410,728\", \"Value (Kshs Millions)\": 2437414.0}, {\"Year\": 2019, \"Month\": \"February\", \"Annual Average Inflation\": 4.65, \"12-Month Inflation\": 4.14, \"Nominal GDP prices (Ksh Million)\": 10237727.0, \"Annual GDP growth (%)\": 5.1, \"Real GDP prices (Ksh Million)\": 8756946.0, \"Volume\": \"367,569\", \"Value (Kshs Millions)\": 2281970.214}, {\"Year\": 2019, \"Month\": \"January\", \"Annual Average Inflation\": 4.68, \"12-Month Inflation\": 4.7, \"Nominal GDP prices (Ksh Million)\": 10237727.0, \"Annual GDP growth (%)\": 5.1, \"Real GDP prices (Ksh Million)\": 8756946.0, \"Volume\": \"369,560\", \"Value (Kshs Millions)\": 2573061.921}, {\"Year\": 2018, \"Month\": \"December\", \"Annual Average Inflation\": 4.69, \"12-Month Inflation\": 5.71, \"Nominal GDP prices (Ksh Million)\": 9340307.0, \"Annual GDP growth (%)\": 5.6, \"Real GDP prices (Ksh Million)\": 8330891.0, \"Volume\": \"404,728\", \"Value (Kshs Millions)\": 2364002.153}, {\"Year\": 2018, \"Month\": \"November\", \"Annual Average Inflation\": 4.59, \"12-Month Inflation\": 5.58, \"Nominal GDP prices (Ksh Million)\": 9340307.0, \"Annual GDP growth (%)\": 5.6, \"Real GDP prices (Ksh Million)\": 8330891.0, \"Volume\": \"391,172\", \"Value (Kshs Millions)\": 3069186.463}, {\"Year\": 2018, \"Month\": \"October\", \"Annual Average Inflation\": 4.53, \"12-Month Inflation\": 5.53, \"Nominal GDP prices (Ksh Million)\": 9340307.0, \"Annual GDP growth (%)\": 5.6, \"Real GDP prices (Ksh Million)\": 8330891.0, \"Volume\": \"410,098\", \"Value (Kshs Millions)\": 2623015.419}, {\"Year\": 2018, \"Month\": \"September\", \"Annual Average Inflation\": 4.53, \"12-Month Inflation\": 5.7, \"Nominal GDP prices (Ksh Million)\": 9340307.0, \"Annual GDP growth (%)\": 5.6, \"Real GDP prices (Ksh Million)\": 8330891.0, \"Volume\": \"359,755\", \"Value (Kshs Millions)\": 2370745.717}, {\"Year\": 2018, \"Month\": \"August\", \"Annual Average Inflation\": 4.63, \"12-Month Inflation\": 4.04, \"Nominal GDP prices (Ksh Million)\": 9340307.0, \"Annual GDP growth (%)\": 5.6, \"Real GDP prices (Ksh Million)\": 8330891.0, \"Volume\": \"401,761\", \"Value (Kshs Millions)\": 2426825.016}, {\"Year\": 2018, \"Month\": \"July\", \"Annual Average Inflation\": 4.95, \"12-Month Inflation\": 4.35, \"Nominal GDP prices (Ksh Million)\": 9340307.0, \"Annual GDP growth (%)\": 5.6, \"Real GDP prices (Ksh Million)\": 8330891.0, \"Volume\": \"406,344\", \"Value (Kshs Millions)\": 2581426.0}, {\"Year\": 2018, \"Month\": \"June\", \"Annual Average Inflation\": 5.2, \"12-Month Inflation\": 4.28, \"Nominal GDP prices (Ksh Million)\": 9340307.0, \"Annual GDP growth (%)\": 5.6, \"Real GDP prices (Ksh Million)\": 8330891.0, \"Volume\": \"365,446\", \"Value (Kshs Millions)\": 2432512.0}, {\"Year\": 2018, \"Month\": \"May\", \"Annual Average Inflation\": 5.61, \"12-Month Inflation\": 3.95, \"Nominal GDP prices (Ksh Million)\": 9340307.0, \"Annual GDP growth (%)\": 5.6, \"Real GDP prices (Ksh Million)\": 8330891.0, \"Volume\": \"419,021\", \"Value (Kshs Millions)\": 2466320.0}, {\"Year\": 2018, \"Month\": \"April\", \"Annual Average Inflation\": 6.24, \"12-Month Inflation\": 3.73, \"Nominal GDP prices (Ksh Million)\": 9340307.0, \"Annual GDP growth (%)\": 5.6, \"Real GDP prices (Ksh Million)\": 8330891.0, \"Volume\": \"373,718\", \"Value (Kshs Millions)\": 2429844.0}, {\"Year\": 2018, \"Month\": \"March\", \"Annual Average Inflation\": 6.89, \"12-Month Inflation\": 4.18, \"Nominal GDP prices (Ksh Million)\": 9340307.0, \"Annual GDP growth (%)\": 5.6, \"Real GDP prices (Ksh Million)\": 8330891.0, \"Volume\": \"380,042\", \"Value (Kshs Millions)\": 2244245.0}, {\"Year\": 2018, \"Month\": \"February\", \"Annual Average Inflation\": 7.4, \"12-Month Inflation\": 4.46, \"Nominal GDP prices (Ksh Million)\": 9340307.0, \"Annual GDP growth (%)\": 5.6, \"Real GDP prices (Ksh Million)\": 8330891.0, \"Volume\": \"326,576\", \"Value (Kshs Millions)\": 2153839.0}, {\"Year\": 2018, \"Month\": \"January\", \"Annual Average Inflation\": 7.79, \"12-Month Inflation\": 4.83, \"Nominal GDP prices (Ksh Million)\": 9340307.0, \"Annual GDP growth (%)\": 5.6, \"Real GDP prices (Ksh Million)\": 8330891.0, \"Volume\": \"340,406\", \"Value (Kshs Millions)\": 2230199.0}, {\"Year\": 2017, \"Month\": \"December\", \"Annual Average Inflation\": 7.98, \"12-Month Inflation\": 4.5, \"Nominal GDP prices (Ksh Million)\": 8483396.0, \"Annual GDP growth (%)\": 3.8, \"Real GDP prices (Ksh Million)\": 7885521.0, \"Volume\": \"371,708\", \"Value (Kshs Millions)\": 2442984.0}, {\"Year\": 2017, \"Month\": \"November\", \"Annual Average Inflation\": 8.15, \"12-Month Inflation\": 4.73, \"Nominal GDP prices (Ksh Million)\": 8483396.0, \"Annual GDP growth (%)\": 3.8, \"Real GDP prices (Ksh Million)\": 7885521.0, \"Volume\": \"430,163\", \"Value (Kshs Millions)\": 2482156.0}, {\"Year\": 2017, \"Month\": \"October\", \"Annual Average Inflation\": 8.33, \"12-Month Inflation\": 5.72, \"Nominal GDP prices (Ksh Million)\": 8483396.0, \"Annual GDP growth (%)\": 3.8, \"Real GDP prices (Ksh Million)\": 7885521.0, \"Volume\": \"340,390\", \"Value (Kshs Millions)\": 2653222.0}, {\"Year\": 2017, \"Month\": \"September\", \"Annual Average Inflation\": 8.4, \"12-Month Inflation\": 7.06, \"Nominal GDP prices (Ksh Million)\": 8483396.0, \"Annual GDP growth (%)\": 3.8, \"Real GDP prices (Ksh Million)\": 7885521.0, \"Volume\": \"337,686\", \"Value (Kshs Millions)\": 2412155.0}, {\"Year\": 2017, \"Month\": \"August\", \"Annual Average Inflation\": 8.36, \"12-Month Inflation\": 8.04, \"Nominal GDP prices (Ksh Million)\": 8483396.0, \"Annual GDP growth (%)\": 3.8, \"Real GDP prices (Ksh Million)\": 7885521.0, \"Volume\": \"333,586\", \"Value (Kshs Millions)\": 2539911.0}, {\"Year\": 2017, \"Month\": \"July\", \"Annual Average Inflation\": 8.21, \"12-Month Inflation\": 7.47, \"Nominal GDP prices (Ksh Million)\": 8483396.0, \"Annual GDP growth (%)\": 3.8, \"Real GDP prices (Ksh Million)\": 7885521.0, \"Volume\": \"363,664\", \"Value (Kshs Millions)\": 2455936.0}, {\"Year\": 2017, \"Month\": \"June\", \"Annual Average Inflation\": 8.13, \"12-Month Inflation\": 9.21, \"Nominal GDP prices (Ksh Million)\": 8483396.0, \"Annual GDP growth (%)\": 3.8, \"Real GDP prices (Ksh Million)\": 7885521.0, \"Volume\": \"371,661\", \"Value (Kshs Millions)\": 2368094.0}, {\"Year\": 2017, \"Month\": \"May\", \"Annual Average Inflation\": 7.84, \"12-Month Inflation\": 11.7, \"Nominal GDP prices (Ksh Million)\": 8483396.0, \"Annual GDP growth (%)\": 3.8, \"Real GDP prices (Ksh Million)\": 7885521.0, \"Volume\": \"391,729\", \"Value (Kshs Millions)\": 2408131.0}, {\"Year\": 2017, \"Month\": \"April\", \"Annual Average Inflation\": 7.2, \"12-Month Inflation\": 11.48, \"Nominal GDP prices (Ksh Million)\": 8483396.0, \"Annual GDP growth (%)\": 3.8, \"Real GDP prices (Ksh Million)\": 7885521.0, \"Volume\": \"396,353\", \"Value (Kshs Millions)\": 2378844.0}, {\"Year\": 2017, \"Month\": \"March\", \"Annual Average Inflation\": 6.76, \"12-Month Inflation\": 10.28, \"Nominal GDP prices (Ksh Million)\": 8483396.0, \"Annual GDP growth (%)\": 3.8, \"Real GDP prices (Ksh Million)\": 7885521.0, \"Volume\": \"402,962\", \"Value (Kshs Millions)\": 2655289.0}, {\"Year\": 2017, \"Month\": \"February\", \"Annual Average Inflation\": 6.43, \"12-Month Inflation\": 9.04, \"Nominal GDP prices (Ksh Million)\": 8483396.0, \"Annual GDP growth (%)\": 3.8, \"Real GDP prices (Ksh Million)\": 7885521.0, \"Volume\": \"322,688\", \"Value (Kshs Millions)\": 2200493.0}, {\"Year\": 2017, \"Month\": \"January\", \"Annual Average Inflation\": 6.26, \"12-Month Inflation\": 6.99, \"Nominal GDP prices (Ksh Million)\": 8483396.0, \"Annual GDP growth (%)\": 3.8, \"Real GDP prices (Ksh Million)\": 7885521.0, \"Volume\": \"319,667\", \"Value (Kshs Millions)\": 2145545.0}, {\"Year\": 2016, \"Month\": \"December\", \"Annual Average Inflation\": 6.3, \"12-Month Inflation\": 6.35, \"Nominal GDP prices (Ksh Million)\": 7594064.0, \"Annual GDP growth (%)\": 4.2, \"Real GDP prices (Ksh Million)\": 7594064.0, \"Volume\": \"586,309\", \"Value (Kshs Millions)\": 2474777.0}, {\"Year\": 2016, \"Month\": \"November\", \"Annual Average Inflation\": 6.43, \"12-Month Inflation\": 6.68, \"Nominal GDP prices (Ksh Million)\": 7594064.0, \"Annual GDP growth (%)\": 4.2, \"Real GDP prices (Ksh Million)\": 7594064.0, \"Volume\": \"348,017\", \"Value (Kshs Millions)\": 2331031.0}, {\"Year\": 2016, \"Month\": \"October\", \"Annual Average Inflation\": 6.48, \"12-Month Inflation\": 6.47, \"Nominal GDP prices (Ksh Million)\": 7594064.0, \"Annual GDP growth (%)\": 4.2, \"Real GDP prices (Ksh Million)\": 7594064.0, \"Volume\": \"329,217\", \"Value (Kshs Millions)\": 2290588.0}, {\"Year\": 2016, \"Month\": \"September\", \"Annual Average Inflation\": 6.5, \"12-Month Inflation\": 6.34, \"Nominal GDP prices (Ksh Million)\": 7594064.0, \"Annual GDP growth (%)\": 4.2, \"Real GDP prices (Ksh Million)\": 7594064.0, \"Volume\": \"327,906\", \"Value (Kshs Millions)\": 2120543.0}, {\"Year\": 2016, \"Month\": \"August\", \"Annual Average Inflation\": 6.47, \"12-Month Inflation\": 6.26, \"Nominal GDP prices (Ksh Million)\": 7594064.0, \"Annual GDP growth (%)\": 4.2, \"Real GDP prices (Ksh Million)\": 7594064.0, \"Volume\": \"328,444\", \"Value (Kshs Millions)\": 2363214.0}, {\"Year\": 2016, \"Month\": \"July\", \"Annual Average Inflation\": 6.44, \"12-Month Inflation\": 6.4, \"Nominal GDP prices (Ksh Million)\": 7594064.0, \"Annual GDP growth (%)\": 4.2, \"Real GDP prices (Ksh Million)\": 7594064.0, \"Volume\": \"336,319\", \"Value (Kshs Millions)\": 2006033.0}, {\"Year\": 2016, \"Month\": \"June\", \"Annual Average Inflation\": 6.46, \"12-Month Inflation\": 5.8, \"Nominal GDP prices (Ksh Million)\": 7594064.0, \"Annual GDP growth (%)\": 4.2, \"Real GDP prices (Ksh Million)\": 7594064.0, \"Volume\": \"303,742\", \"Value (Kshs Millions)\": 2231728.0}, {\"Year\": 2016, \"Month\": \"May\", \"Annual Average Inflation\": 6.59, \"12-Month Inflation\": 5.0, \"Nominal GDP prices (Ksh Million)\": 7594064.0, \"Annual GDP growth (%)\": 4.2, \"Real GDP prices (Ksh Million)\": 7594064.0, \"Volume\": \"293,403\", \"Value (Kshs Millions)\": 2086073.0}, {\"Year\": 2016, \"Month\": \"April\", \"Annual Average Inflation\": 6.72, \"12-Month Inflation\": 5.27, \"Nominal GDP prices (Ksh Million)\": 7594064.0, \"Annual GDP growth (%)\": 4.2, \"Real GDP prices (Ksh Million)\": 7594064.0, \"Volume\": \"294,922\", \"Value (Kshs Millions)\": 2123227.0}, {\"Year\": 2016, \"Month\": \"March\", \"Annual Average Inflation\": 6.88, \"12-Month Inflation\": 6.45, \"Nominal GDP prices (Ksh Million)\": 7594064.0, \"Annual GDP growth (%)\": 4.2, \"Real GDP prices (Ksh Million)\": 7594064.0, \"Volume\": \"276,461\", \"Value (Kshs Millions)\": 2231859.0}, {\"Year\": 2016, \"Month\": \"February\", \"Annual Average Inflation\": 6.87, \"12-Month Inflation\": 6.84, \"Nominal GDP prices (Ksh Million)\": 7594064.0, \"Annual GDP growth (%)\": 4.2, \"Real GDP prices (Ksh Million)\": 7594064.0, \"Volume\": \"323,094\", \"Value (Kshs Millions)\": 2263671.0}, {\"Year\": 2016, \"Month\": \"January\", \"Annual Average Inflation\": 6.77, \"12-Month Inflation\": 7.78, \"Nominal GDP prices (Ksh Million)\": 7594064.0, \"Annual GDP growth (%)\": 4.2, \"Real GDP prices (Ksh Million)\": 7594064.0, \"Volume\": \"328,444\", \"Value (Kshs Millions)\": 2363214.0}, {\"Year\": 2016, \"Month\": \"January\", \"Annual Average Inflation\": 6.77, \"12-Month Inflation\": 7.78, \"Nominal GDP prices (Ksh Million)\": 7594064.0, \"Annual GDP growth (%)\": 4.2, \"Real GDP prices (Ksh Million)\": 7594064.0, \"Volume\": \"226,495\", \"Value (Kshs Millions)\": 2171499.0}, {\"Year\": 2015, \"Month\": \"December\", \"Annual Average Inflation\": 6.58, \"12-Month Inflation\": 8.01, \"Nominal GDP prices (Ksh Million)\": 6884317.0, \"Annual GDP growth (%)\": 5.0, \"Real GDP prices (Ksh Million)\": 7287024.0, \"Volume\": \"310,853\", \"Value (Kshs Millions)\": 2442285.0}, {\"Year\": 2015, \"Month\": \"November\", \"Annual Average Inflation\": 6.42, \"12-Month Inflation\": 7.32, \"Nominal GDP prices (Ksh Million)\": 6884317.0, \"Annual GDP growth (%)\": 5.0, \"Real GDP prices (Ksh Million)\": 7287024.0, \"Volume\": \"248,109\", \"Value (Kshs Millions)\": 2104071.0}, {\"Year\": 2015, \"Month\": \"October\", \"Annual Average Inflation\": 6.31, \"12-Month Inflation\": 6.72, \"Nominal GDP prices (Ksh Million)\": 6884317.0, \"Annual GDP growth (%)\": 5.0, \"Real GDP prices (Ksh Million)\": 7287024.0, \"Volume\": \"273,487\", \"Value (Kshs Millions)\": 3070403.0}, {\"Year\": 2015, \"Month\": \"September\", \"Annual Average Inflation\": 6.29, \"12-Month Inflation\": 5.97, \"Nominal GDP prices (Ksh Million)\": 6884317.0, \"Annual GDP growth (%)\": 5.0, \"Real GDP prices (Ksh Million)\": 7287024.0, \"Volume\": \"266,523\", \"Value (Kshs Millions)\": 2890885.0}, {\"Year\": 2015, \"Month\": \"August\", \"Annual Average Inflation\": 6.34, \"12-Month Inflation\": 5.84, \"Nominal GDP prices (Ksh Million)\": 6884317.0, \"Annual GDP growth (%)\": 5.0, \"Real GDP prices (Ksh Million)\": 7287024.0, \"Volume\": \"258,992\", \"Value (Kshs Millions)\": 2849294.0}, {\"Year\": 2015, \"Month\": \"July\", \"Annual Average Inflation\": 6.54, \"12-Month Inflation\": 6.62, \"Nominal GDP prices (Ksh Million)\": 6884317.0, \"Annual GDP growth (%)\": 5.0, \"Real GDP prices (Ksh Million)\": 7287024.0, \"Volume\": \"266,342\", \"Value (Kshs Millions)\": 2836132.0}, {\"Year\": 2015, \"Month\": \"June\", \"Annual Average Inflation\": 6.63, \"12-Month Inflation\": 7.03, \"Nominal GDP prices (Ksh Million)\": 6884317.0, \"Annual GDP growth (%)\": 5.0, \"Real GDP prices (Ksh Million)\": 7287024.0, \"Volume\": \"242,187\", \"Value (Kshs Millions)\": 2473549.0}, {\"Year\": 2015, \"Month\": \"May\", \"Annual Average Inflation\": 6.65, \"12-Month Inflation\": 6.87, \"Nominal GDP prices (Ksh Million)\": 6884317.0, \"Annual GDP growth (%)\": 5.0, \"Real GDP prices (Ksh Million)\": 7287024.0, \"Volume\": \"246,925\", \"Value (Kshs Millions)\": 2132391.0}, {\"Year\": 2015, \"Month\": \"April\", \"Annual Average Inflation\": 6.69, \"12-Month Inflation\": 7.08, \"Nominal GDP prices (Ksh Million)\": 6884317.0, \"Annual GDP growth (%)\": 5.0, \"Real GDP prices (Ksh Million)\": 7287024.0, \"Volume\": \"245,227\", \"Value (Kshs Millions)\": 2329964.0}, {\"Year\": 2015, \"Month\": \"March\", \"Annual Average Inflation\": 6.63, \"12-Month Inflation\": 6.31, \"Nominal GDP prices (Ksh Million)\": 6884317.0, \"Annual GDP growth (%)\": 5.0, \"Real GDP prices (Ksh Million)\": 7287024.0, \"Volume\": \"258,357\", \"Value (Kshs Millions)\": 2414005.0}, {\"Year\": 2015, \"Month\": \"February\", \"Annual Average Inflation\": 6.63, \"12-Month Inflation\": 5.61, \"Nominal GDP prices (Ksh Million)\": 6884317.0, \"Annual GDP growth (%)\": 5.0, \"Real GDP prices (Ksh Million)\": 7287024.0, \"Volume\": \"297,018\", \"Value (Kshs Millions)\": 1870334.0}, {\"Year\": 2015, \"Month\": \"January\", \"Annual Average Inflation\": 6.74, \"12-Month Inflation\": 5.53, \"Nominal GDP prices (Ksh Million)\": 6884317.0, \"Annual GDP growth (%)\": 5.0, \"Real GDP prices (Ksh Million)\": 7287024.0, \"Volume\": \"210,940\", \"Value (Kshs Millions)\": 2167376.0}, {\"Year\": 2014, \"Month\": \"December\", \"Annual Average Inflation\": 6.88, \"12-Month Inflation\": 6.02, \"Nominal GDP prices (Ksh Million)\": 6003835.0, \"Annual GDP growth (%)\": 5.0, \"Real GDP prices (Ksh Million)\": 6942157.0, \"Volume\": \"260,441\", \"Value (Kshs Millions)\": 2280159.0}, {\"Year\": 2014, \"Month\": \"November\", \"Annual Average Inflation\": 6.97, \"12-Month Inflation\": 6.09, \"Nominal GDP prices (Ksh Million)\": 6003835.0, \"Annual GDP growth (%)\": 5.0, \"Real GDP prices (Ksh Million)\": 6942157.0, \"Volume\": \"212,340\", \"Value (Kshs Millions)\": 2022806.0}, {\"Year\": 2014, \"Month\": \"October\", \"Annual Average Inflation\": 7.08, \"12-Month Inflation\": 6.43, \"Nominal GDP prices (Ksh Million)\": 6003835.0, \"Annual GDP growth (%)\": 5.0, \"Real GDP prices (Ksh Million)\": 6942157.0, \"Volume\": \"237,027\", \"Value (Kshs Millions)\": 2398961.0}, {\"Year\": 2014, \"Month\": \"September\", \"Annual Average Inflation\": 7.19, \"12-Month Inflation\": 6.6, \"Nominal GDP prices (Ksh Million)\": 6003835.0, \"Annual GDP growth (%)\": 5.0, \"Real GDP prices (Ksh Million)\": 6942157.0, \"Volume\": \"223,227\", \"Value (Kshs Millions)\": 2548957.0}, {\"Year\": 2014, \"Month\": \"August\", \"Annual Average Inflation\": 7.33, \"12-Month Inflation\": 8.36, \"Nominal GDP prices (Ksh Million)\": 6003835.0, \"Annual GDP growth (%)\": 5.0, \"Real GDP prices (Ksh Million)\": 6942157.0, \"Volume\": \"206,937\", \"Value (Kshs Millions)\": 2076530.0}, {\"Year\": 2014, \"Month\": \"July\", \"Annual Average Inflation\": 7.19, \"12-Month Inflation\": 7.67, \"Nominal GDP prices (Ksh Million)\": 6003835.0, \"Annual GDP growth (%)\": 5.0, \"Real GDP prices (Ksh Million)\": 6942157.0, \"Volume\": \"214,091\", \"Value (Kshs Millions)\": 2188862.0}, {\"Year\": 2014, \"Month\": \"June\", \"Annual Average Inflation\": 7.05, \"12-Month Inflation\": 7.39, \"Nominal GDP prices (Ksh Million)\": 6003835.0, \"Annual GDP growth (%)\": 5.0, \"Real GDP prices (Ksh Million)\": 6942157.0, \"Volume\": \"198,052\", \"Value (Kshs Millions)\": 2132887.0}, {\"Year\": 2014, \"Month\": \"May\", \"Annual Average Inflation\": 6.85, \"12-Month Inflation\": 7.3, \"Nominal GDP prices (Ksh Million)\": 6003835.0, \"Annual GDP growth (%)\": 5.0, \"Real GDP prices (Ksh Million)\": 6942157.0, \"Volume\": \"209,019\", \"Value (Kshs Millions)\": 2187709.0}, {\"Year\": 2014, \"Month\": \"April\", \"Annual Average Inflation\": 6.58, \"12-Month Inflation\": 6.41, \"Nominal GDP prices (Ksh Million)\": 6003835.0, \"Annual GDP growth (%)\": 5.0, \"Real GDP prices (Ksh Million)\": 6942157.0, \"Volume\": \"200,151\", \"Value (Kshs Millions)\": 2046620.0}, {\"Year\": 2014, \"Month\": \"March\", \"Annual Average Inflation\": 6.39, \"12-Month Inflation\": 6.27, \"Nominal GDP prices (Ksh Million)\": 6003835.0, \"Annual GDP growth (%)\": 5.0, \"Real GDP prices (Ksh Million)\": 6942157.0, \"Volume\": \"202,035\", \"Value (Kshs Millions)\": 1920406.0}, {\"Year\": 2014, \"Month\": \"February\", \"Annual Average Inflation\": 6.21, \"12-Month Inflation\": 6.86, \"Nominal GDP prices (Ksh Million)\": 6003835.0, \"Annual GDP growth (%)\": 5.0, \"Real GDP prices (Ksh Million)\": 6942157.0, \"Volume\": \"181,123\", \"Value (Kshs Millions)\": 1853305.0}, {\"Year\": 2014, \"Month\": \"January\", \"Annual Average Inflation\": 6.01, \"12-Month Inflation\": 7.21, \"Nominal GDP prices (Ksh Million)\": 6003835.0, \"Annual GDP growth (%)\": 5.0, \"Real GDP prices (Ksh Million)\": 6942157.0, \"Volume\": \"180,897\", \"Value (Kshs Millions)\": 1904013.0}, {\"Year\": 2013, \"Month\": \"December\", \"Annual Average Inflation\": 5.72, \"12-Month Inflation\": 7.15, \"Nominal GDP prices (Ksh Million)\": 5311322.0, \"Annual GDP growth (%)\": 3.8, \"Real GDP prices (Ksh Million)\": 6610312.0, \"Volume\": \"180,926\", \"Value (Kshs Millions)\": 1904603.0}, {\"Year\": 2013, \"Month\": \"November\", \"Annual Average Inflation\": 5.39, \"12-Month Inflation\": 7.36, \"Nominal GDP prices (Ksh Million)\": 5311322.0, \"Annual GDP growth (%)\": 3.8, \"Real GDP prices (Ksh Million)\": 6610312.0, \"Volume\": \"176,330\", \"Value (Kshs Millions)\": 1982011.0}, {\"Year\": 2013, \"Month\": \"October\", \"Annual Average Inflation\": 5.05, \"12-Month Inflation\": 7.76, \"Nominal GDP prices (Ksh Million)\": 5311322.0, \"Annual GDP growth (%)\": 3.8, \"Real GDP prices (Ksh Million)\": 6610312.0, \"Volume\": \"185,920\", \"Value (Kshs Millions)\": 2300706.0}, {\"Year\": 2013, \"Month\": \"September\", \"Annual Average Inflation\": 4.75, \"12-Month Inflation\": 8.29, \"Nominal GDP prices (Ksh Million)\": 5311322.0, \"Annual GDP growth (%)\": 3.8, \"Real GDP prices (Ksh Million)\": 6610312.0, \"Volume\": \"165,175\", \"Value (Kshs Millions)\": 1948919.0}, {\"Year\": 2013, \"Month\": \"August\", \"Annual Average Inflation\": 4.5, \"12-Month Inflation\": 6.67, \"Nominal GDP prices (Ksh Million)\": 5311322.0, \"Annual GDP growth (%)\": 3.8, \"Real GDP prices (Ksh Million)\": 6610312.0, \"Volume\": \"164,650\", \"Value (Kshs Millions)\": 2020546.0}, {\"Year\": 2013, \"Month\": \"July\", \"Annual Average Inflation\": 4.44, \"12-Month Inflation\": 6.03, \"Nominal GDP prices (Ksh Million)\": 5311322.0, \"Annual GDP growth (%)\": 3.8, \"Real GDP prices (Ksh Million)\": 6610312.0, \"Volume\": \"185,773\", \"Value (Kshs Millions)\": 2109433.0}, {\"Year\": 2013, \"Month\": \"June\", \"Annual Average Inflation\": 4.56, \"12-Month Inflation\": 4.91, \"Nominal GDP prices (Ksh Million)\": 5311322.0, \"Annual GDP growth (%)\": 3.8, \"Real GDP prices (Ksh Million)\": 6610312.0, \"Volume\": \"152,310\", \"Value (Kshs Millions)\": 1711803.0}, {\"Year\": 2013, \"Month\": \"May\", \"Annual Average Inflation\": 4.96, \"12-Month Inflation\": 4.05, \"Nominal GDP prices (Ksh Million)\": 5311322.0, \"Annual GDP growth (%)\": 3.8, \"Real GDP prices (Ksh Million)\": 6610312.0, \"Volume\": \"181,045\", \"Value (Kshs Millions)\": 1868735.0}, {\"Year\": 2013, \"Month\": \"April\", \"Annual Average Inflation\": 5.61, \"12-Month Inflation\": 4.14, \"Nominal GDP prices (Ksh Million)\": 5311322.0, \"Annual GDP growth (%)\": 3.8, \"Real GDP prices (Ksh Million)\": 6610312.0, \"Volume\": \"162,432\", \"Value (Kshs Millions)\": 2010659.0}, {\"Year\": 2013, \"Month\": \"March\", \"Annual Average Inflation\": 6.33, \"12-Month Inflation\": 4.11, \"Nominal GDP prices (Ksh Million)\": 5311322.0, \"Annual GDP growth (%)\": 3.8, \"Real GDP prices (Ksh Million)\": 6610312.0, \"Volume\": \"140,781\", \"Value (Kshs Millions)\": 1630838.0}, {\"Year\": 2013, \"Month\": \"February\", \"Annual Average Inflation\": 7.24, \"12-Month Inflation\": 4.45, \"Nominal GDP prices (Ksh Million)\": 5311322.0, \"Annual GDP growth (%)\": 3.8, \"Real GDP prices (Ksh Million)\": 6610312.0, \"Volume\": \"144,248\", \"Value (Kshs Millions)\": 1548394.0}, {\"Year\": 2013, \"Month\": \"January\", \"Annual Average Inflation\": 8.2, \"12-Month Inflation\": 3.67, \"Nominal GDP prices (Ksh Million)\": 5311322.0, \"Annual GDP growth (%)\": 3.8, \"Real GDP prices (Ksh Million)\": 6610312.0, \"Volume\": \"138,297\", \"Value (Kshs Millions)\": 1632331.0}, {\"Year\": 2012, \"Month\": \"December\", \"Annual Average Inflation\": 9.38, \"12-Month Inflation\": 3.2, \"Nominal GDP prices (Ksh Million)\": 4767191.0, \"Annual GDP growth (%)\": 4.6, \"Real GDP prices (Ksh Million)\": 6368448.0, \"Volume\": \"142,867\", \"Value (Kshs Millions)\": 1627431.0}, {\"Year\": 2012, \"Month\": \"November\", \"Annual Average Inflation\": 10.67, \"12-Month Inflation\": 3.25, \"Nominal GDP prices (Ksh Million)\": 4767191.0, \"Annual GDP growth (%)\": 4.6, \"Real GDP prices (Ksh Million)\": 6368448.0, \"Volume\": \"137,975\", \"Value (Kshs Millions)\": 1819579.0}, {\"Year\": 2012, \"Month\": \"October\", \"Annual Average Inflation\": 12.04, \"12-Month Inflation\": 4.14, \"Nominal GDP prices (Ksh Million)\": 4767191.0, \"Annual GDP growth (%)\": 4.6, \"Real GDP prices (Ksh Million)\": 6368448.0, \"Volume\": \"157,020\", \"Value (Kshs Millions)\": 1899675.0}, {\"Year\": 2012, \"Month\": \"September\", \"Annual Average Inflation\": 13.29, \"12-Month Inflation\": 5.32, \"Nominal GDP prices (Ksh Million)\": 4767191.0, \"Annual GDP growth (%)\": 4.6, \"Real GDP prices (Ksh Million)\": 6368448.0, \"Volume\": \"130,874\", \"Value (Kshs Millions)\": 1738832.0}, {\"Year\": 2012, \"Month\": \"August\", \"Annual Average Inflation\": 14.33, \"12-Month Inflation\": 6.09, \"Nominal GDP prices (Ksh Million)\": 4767191.0, \"Annual GDP growth (%)\": 4.6, \"Real GDP prices (Ksh Million)\": 6368448.0, \"Volume\": \"135,243\", \"Value (Kshs Millions)\": 1637004.0}, {\"Year\": 2012, \"Month\": \"July\", \"Annual Average Inflation\": 15.27, \"12-Month Inflation\": 7.74, \"Nominal GDP prices (Ksh Million)\": 4767191.0, \"Annual GDP growth (%)\": 4.6, \"Real GDP prices (Ksh Million)\": 6368448.0, \"Volume\": \"134,391\", \"Value (Kshs Millions)\": 1560938.0}, {\"Year\": 2012, \"Month\": \"June\", \"Annual Average Inflation\": 15.97, \"12-Month Inflation\": 10.05, \"Nominal GDP prices (Ksh Million)\": 4767191.0, \"Annual GDP growth (%)\": 4.6, \"Real GDP prices (Ksh Million)\": 6368448.0, \"Volume\": \"127,147\", \"Value (Kshs Millions)\": 1693432.0}, {\"Year\": 2012, \"Month\": \"May\", \"Annual Average Inflation\": 16.4, \"12-Month Inflation\": 12.22, \"Nominal GDP prices (Ksh Million)\": 4767191.0, \"Annual GDP growth (%)\": 4.6, \"Real GDP prices (Ksh Million)\": 6368448.0, \"Volume\": \"137,135\", \"Value (Kshs Millions)\": 1610126.0}, {\"Year\": 2012, \"Month\": \"April\", \"Annual Average Inflation\": 16.5, \"12-Month Inflation\": 13.06, \"Nominal GDP prices (Ksh Million)\": 4767191.0, \"Annual GDP growth (%)\": 4.6, \"Real GDP prices (Ksh Million)\": 6368448.0, \"Volume\": \"115,514\", \"Value (Kshs Millions)\": 1528600.0}, {\"Year\": 2012, \"Month\": \"March\", \"Annual Average Inflation\": 16.45, \"12-Month Inflation\": 15.61, \"Nominal GDP prices (Ksh Million)\": 4767191.0, \"Annual GDP growth (%)\": 4.6, \"Real GDP prices (Ksh Million)\": 6368448.0, \"Volume\": \"125,739\", \"Value (Kshs Millions)\": 1638150.0}, {\"Year\": 2012, \"Month\": \"February\", \"Annual Average Inflation\": 15.93, \"12-Month Inflation\": 16.69, \"Nominal GDP prices (Ksh Million)\": 4767191.0, \"Annual GDP growth (%)\": 4.6, \"Real GDP prices (Ksh Million)\": 6368448.0, \"Volume\": \"116,990\", \"Value (Kshs Millions)\": 1546480.0}, {\"Year\": 2012, \"Month\": \"January\", \"Annual Average Inflation\": 15.1, \"12-Month Inflation\": 18.31, \"Nominal GDP prices (Ksh Million)\": 4767191.0, \"Annual GDP growth (%)\": 4.6, \"Real GDP prices (Ksh Million)\": 6368448.0, \"Volume\": \"107,230\", \"Value (Kshs Millions)\": 1579320.0}, {\"Year\": 2011, \"Month\": \"December\", \"Annual Average Inflation\": 14.02, \"12-Month Inflation\": 18.93, \"Nominal GDP prices (Ksh Million)\": 4162514.0, \"Annual GDP growth (%)\": 5.1, \"Real GDP prices (Ksh Million)\": 6090206.0, \"Volume\": \"117,916\", \"Value (Kshs Millions)\": 1562080.0}, {\"Year\": 2011, \"Month\": \"November\", \"Annual Average Inflation\": 12.82, \"12-Month Inflation\": 19.72, \"Nominal GDP prices (Ksh Million)\": 4162514.0, \"Annual GDP growth (%)\": 5.1, \"Real GDP prices (Ksh Million)\": 6090206.0, \"Volume\": \"112,923\", \"Value (Kshs Millions)\": 1816270.0}, {\"Year\": 2011, \"Month\": \"October\", \"Annual Average Inflation\": 11.49, \"12-Month Inflation\": 18.91, \"Nominal GDP prices (Ksh Million)\": 4162514.0, \"Annual GDP growth (%)\": 5.1, \"Real GDP prices (Ksh Million)\": 6090206.0, \"Volume\": \"113,658\", \"Value (Kshs Millions)\": 2004110.0}, {\"Year\": 2011, \"Month\": \"September\", \"Annual Average Inflation\": 10.18, \"12-Month Inflation\": 17.32, \"Nominal GDP prices (Ksh Million)\": 4162514.0, \"Annual GDP growth (%)\": 5.1, \"Real GDP prices (Ksh Million)\": 6090206.0, \"Volume\": \"118,798\", \"Value (Kshs Millions)\": 1729950.0}, {\"Year\": 2011, \"Month\": \"August\", \"Annual Average Inflation\": 9.0, \"12-Month Inflation\": 16.67, \"Nominal GDP prices (Ksh Million)\": 4162514.0, \"Annual GDP growth (%)\": 5.1, \"Real GDP prices (Ksh Million)\": 6090206.0, \"Volume\": \"110,498\", \"Value (Kshs Millions)\": 2007040.0}, {\"Year\": 2011, \"Month\": \"July\", \"Annual Average Inflation\": 7.88, \"12-Month Inflation\": 15.53, \"Nominal GDP prices (Ksh Million)\": 4162514.0, \"Annual GDP growth (%)\": 5.1, \"Real GDP prices (Ksh Million)\": 6090206.0, \"Volume\": \"103,338\", \"Value (Kshs Millions)\": 2151280.0}, {\"Year\": 2011, \"Month\": \"June\", \"Annual Average Inflation\": 6.88, \"12-Month Inflation\": 14.48, \"Nominal GDP prices (Ksh Million)\": 4162514.0, \"Annual GDP growth (%)\": 5.1, \"Real GDP prices (Ksh Million)\": 6090206.0, \"Volume\": \"107,063\", \"Value (Kshs Millions)\": 2617340.0}, {\"Year\": 2011, \"Month\": \"May\", \"Annual Average Inflation\": 5.96, \"12-Month Inflation\": 12.95, \"Nominal GDP prices (Ksh Million)\": 4162514.0, \"Annual GDP growth (%)\": 5.1, \"Real GDP prices (Ksh Million)\": 6090206.0, \"Volume\": \"103,112\", \"Value (Kshs Millions)\": 1867910.0}, {\"Year\": 2011, \"Month\": \"April\", \"Annual Average Inflation\": 5.2, \"12-Month Inflation\": 12.05, \"Nominal GDP prices (Ksh Million)\": 4162514.0, \"Annual GDP growth (%)\": 5.1, \"Real GDP prices (Ksh Million)\": 6090206.0, \"Volume\": \"88,168\", \"Value (Kshs Millions)\": 1727570.0}, {\"Year\": 2011, \"Month\": \"March\", \"Annual Average Inflation\": 4.49, \"12-Month Inflation\": 9.19, \"Nominal GDP prices (Ksh Million)\": 4162514.0, \"Annual GDP growth (%)\": 5.1, \"Real GDP prices (Ksh Million)\": 6090206.0, \"Volume\": \"103,986\", \"Value (Kshs Millions)\": 1801550.0}, {\"Year\": 2011, \"Month\": \"February\", \"Annual Average Inflation\": 4.05, \"12-Month Inflation\": 6.54, \"Nominal GDP prices (Ksh Million)\": 4162514.0, \"Annual GDP growth (%)\": 5.1, \"Real GDP prices (Ksh Million)\": 6090206.0, \"Volume\": \"84,448\", \"Value (Kshs Millions)\": 1288840.0}, {\"Year\": 2011, \"Month\": \"January\", \"Annual Average Inflation\": 3.93, \"12-Month Inflation\": 5.42, \"Nominal GDP prices (Ksh Million)\": 4162514.0, \"Annual GDP growth (%)\": 5.1, \"Real GDP prices (Ksh Million)\": 6090206.0, \"Volume\": \"77,625\", \"Value (Kshs Millions)\": 1319870.0}, {\"Year\": 2010, \"Month\": \"December\", \"Annual Average Inflation\": 3.96, \"12-Month Inflation\": 4.51, \"Nominal GDP prices (Ksh Million)\": 3597630.0, \"Annual GDP growth (%)\": 8.1, \"Real GDP prices (Ksh Million)\": 5793514.0, \"Volume\": \"92,592\", \"Value (Kshs Millions)\": 1400960.0}, {\"Year\": 2010, \"Month\": \"November\", \"Annual Average Inflation\": 4.02, \"12-Month Inflation\": 3.84, \"Nominal GDP prices (Ksh Million)\": 3597630.0, \"Annual GDP growth (%)\": 8.1, \"Real GDP prices (Ksh Million)\": 5793514.0, \"Volume\": \"85,968\", \"Value (Kshs Millions)\": 1430130.0}, {\"Year\": 2010, \"Month\": \"October\", \"Annual Average Inflation\": 4.12, \"12-Month Inflation\": 3.18, \"Nominal GDP prices (Ksh Million)\": 3597630.0, \"Annual GDP growth (%)\": 8.1, \"Real GDP prices (Ksh Million)\": 5793514.0, \"Volume\": \"76,415\", \"Value (Kshs Millions)\": 1375620.0}, {\"Year\": 2010, \"Month\": \"September\", \"Annual Average Inflation\": 4.4, \"12-Month Inflation\": 3.21, \"Nominal GDP prices (Ksh Million)\": 3597630.0, \"Annual GDP growth (%)\": 8.1, \"Real GDP prices (Ksh Million)\": 5793514.0, \"Volume\": \"82,770\", \"Value (Kshs Millions)\": 1256470.0}, {\"Year\": 2010, \"Month\": \"August\", \"Annual Average Inflation\": 4.69, \"12-Month Inflation\": 3.22, \"Nominal GDP prices (Ksh Million)\": 3597630.0, \"Annual GDP growth (%)\": 8.1, \"Real GDP prices (Ksh Million)\": 5793514.0, \"Volume\": \"70,771\", \"Value (Kshs Millions)\": 1280470.0}, {\"Year\": 2010, \"Month\": \"July\", \"Annual Average Inflation\": 5.03, \"12-Month Inflation\": 3.57, \"Nominal GDP prices (Ksh Million)\": 3597630.0, \"Annual GDP growth (%)\": 8.1, \"Real GDP prices (Ksh Million)\": 5793514.0, \"Volume\": \"75,289\", \"Value (Kshs Millions)\": 1425810.0}, {\"Year\": 2010, \"Month\": \"June\", \"Annual Average Inflation\": 5.43, \"12-Month Inflation\": 3.49, \"Nominal GDP prices (Ksh Million)\": 3597630.0, \"Annual GDP growth (%)\": 8.1, \"Real GDP prices (Ksh Million)\": 5793514.0, \"Volume\": \"79,760\", \"Value (Kshs Millions)\": 1500990.0}, {\"Year\": 2010, \"Month\": \"May\", \"Annual Average Inflation\": 5.85, \"12-Month Inflation\": 3.88, \"Nominal GDP prices (Ksh Million)\": 3597630.0, \"Annual GDP growth (%)\": 8.1, \"Real GDP prices (Ksh Million)\": 5793514.0, \"Volume\": \"72,588\", \"Value (Kshs Millions)\": 1587240.0}, {\"Year\": 2010, \"Month\": \"April\", \"Annual Average Inflation\": 6.32, \"12-Month Inflation\": 3.66, \"Nominal GDP prices (Ksh Million)\": 3597630.0, \"Annual GDP growth (%)\": 8.1, \"Real GDP prices (Ksh Million)\": 5793514.0, \"Volume\": \"69,634\", \"Value (Kshs Millions)\": 1436310.0}, {\"Year\": 2010, \"Month\": \"March\", \"Annual Average Inflation\": 7.03, \"12-Month Inflation\": 3.97, \"Nominal GDP prices (Ksh Million)\": 3597630.0, \"Annual GDP growth (%)\": 8.1, \"Real GDP prices (Ksh Million)\": 5793514.0, \"Volume\": \"77,058\", \"Value (Kshs Millions)\": 1694230.0}, {\"Year\": 2010, \"Month\": \"February\", \"Annual Average Inflation\": 7.88, \"12-Month Inflation\": 5.18, \"Nominal GDP prices (Ksh Million)\": 3597630.0, \"Annual GDP growth (%)\": 8.1, \"Real GDP prices (Ksh Million)\": 5793514.0, \"Volume\": \"65,010\", \"Value (Kshs Millions)\": 1458480.0}, {\"Year\": 2010, \"Month\": \"January\", \"Annual Average Inflation\": 8.64, \"12-Month Inflation\": 5.95, \"Nominal GDP prices (Ksh Million)\": 3597630.0, \"Annual GDP growth (%)\": 8.1, \"Real GDP prices (Ksh Million)\": 5793514.0, \"Volume\": \"56,862\", \"Value (Kshs Millions)\": 1254020.0}, {\"Year\": 2009, \"Month\": \"December\", \"Annual Average Inflation\": 9.24, \"12-Month Inflation\": 5.32, \"Nominal GDP prices (Ksh Million)\": 3275642.0, \"Annual GDP growth (%)\": 2.7, \"Real GDP prices (Ksh Million)\": 5361462.0, \"Volume\": \"66,916\", \"Value (Kshs Millions)\": 1454000.0}, {\"Year\": 2009, \"Month\": \"November\", \"Annual Average Inflation\": 10.24, \"12-Month Inflation\": 5.0, \"Nominal GDP prices (Ksh Million)\": 3275642.0, \"Annual GDP growth (%)\": 2.7, \"Real GDP prices (Ksh Million)\": 5361462.0, \"Volume\": \"56,900\", \"Value (Kshs Millions)\": 1429960.0}, {\"Year\": 2009, \"Month\": \"October\", \"Annual Average Inflation\": 11.42, \"12-Month Inflation\": 6.62, \"Nominal GDP prices (Ksh Million)\": 3275642.0, \"Annual GDP growth (%)\": 2.7, \"Real GDP prices (Ksh Million)\": 5361462.0, \"Volume\": \"55,440\", \"Value (Kshs Millions)\": 1480730.0}, {\"Year\": 2009, \"Month\": \"September\", \"Annual Average Inflation\": 12.41, \"12-Month Inflation\": 6.74, \"Nominal GDP prices (Ksh Million)\": 3275642.0, \"Annual GDP growth (%)\": 2.7, \"Real GDP prices (Ksh Million)\": 5361462.0, \"Volume\": \"24,552\", \"Value (Kshs Millions)\": 1198240.0}, {\"Year\": 2009, \"Month\": \"August\", \"Annual Average Inflation\": 13.42, \"12-Month Inflation\": 7.36, \"Nominal GDP prices (Ksh Million)\": 3275642.0, \"Annual GDP growth (%)\": 2.7, \"Real GDP prices (Ksh Million)\": 5361462.0, \"Volume\": \"23,001\", \"Value (Kshs Millions)\": 1127100.0}, {\"Year\": 2009, \"Month\": \"July\", \"Annual Average Inflation\": 14.35, \"12-Month Inflation\": 8.44, \"Nominal GDP prices (Ksh Million)\": 3275642.0, \"Annual GDP growth (%)\": 2.7, \"Real GDP prices (Ksh Million)\": 5361462.0, \"Volume\": \"25,650\", \"Value (Kshs Millions)\": 1184970.0}, {\"Year\": 2009, \"Month\": \"June\", \"Annual Average Inflation\": 15.11, \"12-Month Inflation\": 8.6, \"Nominal GDP prices (Ksh Million)\": 3275642.0, \"Annual GDP growth (%)\": 2.7, \"Real GDP prices (Ksh Million)\": 5361462.0, \"Volume\": \"21,977\", \"Value (Kshs Millions)\": 1031560.0}, {\"Year\": 2009, \"Month\": \"May\", \"Annual Average Inflation\": 15.93, \"12-Month Inflation\": 9.61, \"Nominal GDP prices (Ksh Million)\": 3275642.0, \"Annual GDP growth (%)\": 2.7, \"Real GDP prices (Ksh Million)\": 5361462.0, \"Volume\": \"24,024\", \"Value (Kshs Millions)\": 1064250.0}, {\"Year\": 2009, \"Month\": \"April\", \"Annual Average Inflation\": 16.72, \"12-Month Inflation\": 12.42, \"Nominal GDP prices (Ksh Million)\": 3275642.0, \"Annual GDP growth (%)\": 2.7, \"Real GDP prices (Ksh Million)\": 5361462.0, \"Volume\": \"22,485\", \"Value (Kshs Millions)\": 107235.0}, {\"Year\": 2009, \"Month\": \"March\", \"Annual Average Inflation\": 17.07, \"12-Month Inflation\": 14.6, \"Nominal GDP prices (Ksh Million)\": 3275642.0, \"Annual GDP growth (%)\": 2.7, \"Real GDP prices (Ksh Million)\": 5361462.0, \"Volume\": \"23,752\", \"Value (Kshs Millions)\": 1234920.0}, {\"Year\": 2009, \"Month\": \"February\", \"Annual Average Inflation\": 16.87, \"12-Month Inflation\": 14.69, \"Nominal GDP prices (Ksh Million)\": 3275642.0, \"Annual GDP growth (%)\": 2.7, \"Real GDP prices (Ksh Million)\": 5361462.0, \"Volume\": \"20,710\", \"Value (Kshs Millions)\": 1236480.0}, {\"Year\": 2009, \"Month\": \"January\", \"Annual Average Inflation\": 16.56, \"12-Month Inflation\": 13.22, \"Nominal GDP prices (Ksh Million)\": 3275642.0, \"Annual GDP growth (%)\": 2.7, \"Real GDP prices (Ksh Million)\": 5361462.0, \"Volume\": \"25,330\", \"Value (Kshs Millions)\": 1375950.0}, {\"Year\": 2008, \"Month\": \"December\", \"Annual Average Inflation\": 16.27, \"12-Month Inflation\": 17.83, \"Nominal GDP prices (Ksh Million)\": 2107589.0, \"Annual GDP growth (%)\": 1.5, \"Real GDP prices (Ksh Million)\": 1357262.0, \"Volume\": \"24,131\", \"Value (Kshs Millions)\": 1293360.0}, {\"Year\": 2008, \"Month\": \"November\", \"Annual Average Inflation\": 15.25, \"12-Month Inflation\": 19.54, \"Nominal GDP prices (Ksh Million)\": 2107589.0, \"Annual GDP growth (%)\": 1.5, \"Real GDP prices (Ksh Million)\": 1357262.0, \"Volume\": \"22,718\", \"Value (Kshs Millions)\": 1225150.0}, {\"Year\": 2008, \"Month\": \"October\", \"Annual Average Inflation\": 14.13, \"12-Month Inflation\": 18.74, \"Nominal GDP prices (Ksh Million)\": 2107589.0, \"Annual GDP growth (%)\": 1.5, \"Real GDP prices (Ksh Million)\": 1357262.0, \"Volume\": \"23,635\", \"Value (Kshs Millions)\": 1343930.0}, {\"Year\": 2008, \"Month\": \"September\", \"Annual Average Inflation\": 13.02, \"12-Month Inflation\": 18.73, \"Nominal GDP prices (Ksh Million)\": 2107589.0, \"Annual GDP growth (%)\": 1.5, \"Real GDP prices (Ksh Million)\": 1357262.0, \"Volume\": \"23,494\", \"Value (Kshs Millions)\": 1367430.0}, {\"Year\": 2008, \"Month\": \"August\", \"Annual Average Inflation\": 11.92, \"12-Month Inflation\": 18.33, \"Nominal GDP prices (Ksh Million)\": 2107589.0, \"Annual GDP growth (%)\": 1.5, \"Real GDP prices (Ksh Million)\": 1357262.0, \"Volume\": \"20,593\", \"Value (Kshs Millions)\": 1327200.0}, {\"Year\": 2008, \"Month\": \"July\", \"Annual Average Inflation\": 10.83, \"12-Month Inflation\": 17.12, \"Nominal GDP prices (Ksh Million)\": 2107589.0, \"Annual GDP growth (%)\": 1.5, \"Real GDP prices (Ksh Million)\": 1357262.0, \"Volume\": \"24,599\", \"Value (Kshs Millions)\": 1863959.0}, {\"Year\": 2008, \"Month\": \"June\", \"Annual Average Inflation\": 9.86, \"12-Month Inflation\": 17.87, \"Nominal GDP prices (Ksh Million)\": 2107589.0, \"Annual GDP growth (%)\": 1.5, \"Real GDP prices (Ksh Million)\": 1357262.0, \"Volume\": \"22,387\", \"Value (Kshs Millions)\": 2600813.0}, {\"Year\": 2008, \"Month\": \"May\", \"Annual Average Inflation\": 8.7, \"12-Month Inflation\": 18.61, \"Nominal GDP prices (Ksh Million)\": 2107589.0, \"Annual GDP growth (%)\": 1.5, \"Real GDP prices (Ksh Million)\": 1357262.0, \"Volume\": \"19,730\", \"Value (Kshs Millions)\": 1895025.0}, {\"Year\": 2008, \"Month\": \"April\", \"Annual Average Inflation\": 7.32, \"12-Month Inflation\": 16.12, \"Nominal GDP prices (Ksh Million)\": 2107589.0, \"Annual GDP growth (%)\": 1.5, \"Real GDP prices (Ksh Million)\": 1357262.0, \"Volume\": \"24,684\", \"Value (Kshs Millions)\": 1219919.0}, {\"Year\": 2008, \"Month\": \"March\", \"Annual Average Inflation\": 6.13, \"12-Month Inflation\": 11.9, \"Nominal GDP prices (Ksh Million)\": 2107589.0, \"Annual GDP growth (%)\": 1.5, \"Real GDP prices (Ksh Million)\": 1357262.0, \"Volume\": \"20,920\", \"Value (Kshs Millions)\": 890747.0}, {\"Year\": 2008, \"Month\": \"February\", \"Annual Average Inflation\": 5.32, \"12-Month Inflation\": 10.58, \"Nominal GDP prices (Ksh Million)\": 2107589.0, \"Annual GDP growth (%)\": 1.5, \"Real GDP prices (Ksh Million)\": 1357262.0, \"Volume\": \"23,278\", \"Value (Kshs Millions)\": 985324.0}, {\"Year\": 2008, \"Month\": \"January\", \"Annual Average Inflation\": 4.69, \"12-Month Inflation\": 9.4, \"Nominal GDP prices (Ksh Million)\": 2107589.0, \"Annual GDP growth (%)\": 1.5, \"Real GDP prices (Ksh Million)\": 1357262.0, \"Volume\": \"23,773\", \"Value (Kshs Millions)\": 1256387.0}, {\"Year\": 2007, \"Month\": \"December\", \"Annual Average Inflation\": 4.27, \"12-Month Inflation\": 5.7, \"Nominal GDP prices (Ksh Million)\": 1833511.0, \"Annual GDP growth (%)\": 6.9, \"Real GDP prices (Ksh Million)\": 1336849.0, \"Volume\": \"14,563\", \"Value (Kshs Millions)\": 944752.0}, {\"Year\": 2007, \"Month\": \"November\", \"Annual Average Inflation\": 4.45, \"12-Month Inflation\": 6.08, \"Nominal GDP prices (Ksh Million)\": 1833511.0, \"Annual GDP growth (%)\": 6.9, \"Real GDP prices (Ksh Million)\": 1336849.0, \"Volume\": \"19,613\", \"Value (Kshs Millions)\": 1161160.0}, {\"Year\": 2007, \"Month\": \"October\", \"Annual Average Inflation\": 4.48, \"12-Month Inflation\": 5.38, \"Nominal GDP prices (Ksh Million)\": 1833511.0, \"Annual GDP growth (%)\": 6.9, \"Real GDP prices (Ksh Million)\": 1336849.0, \"Volume\": \"16,638\", \"Value (Kshs Millions)\": 930309.0}, {\"Year\": 2007, \"Month\": \"September\", \"Annual Average Inflation\": 4.57, \"12-Month Inflation\": 5.53, \"Nominal GDP prices (Ksh Million)\": 1833511.0, \"Annual GDP growth (%)\": 6.9, \"Real GDP prices (Ksh Million)\": 1336849.0, \"Volume\": \"14,770\", \"Value (Kshs Millions)\": 850650.0}, {\"Year\": 2007, \"Month\": \"August\", \"Annual Average Inflation\": 4.6, \"12-Month Inflation\": 5.3, \"Nominal GDP prices (Ksh Million)\": 1833511.0, \"Annual GDP growth (%)\": 6.9, \"Real GDP prices (Ksh Million)\": 1336849.0, \"Volume\": \"17,527\", \"Value (Kshs Millions)\": 927949.0}, {\"Year\": 2007, \"Month\": \"July\", \"Annual Average Inflation\": 4.57, \"12-Month Inflation\": 5.48, \"Nominal GDP prices (Ksh Million)\": 1833511.0, \"Annual GDP growth (%)\": 6.9, \"Real GDP prices (Ksh Million)\": 1336849.0, \"Volume\": \"14,633\", \"Value (Kshs Millions)\": 843916.0}, {\"Year\": 2007, \"Month\": \"June\", \"Annual Average Inflation\": 4.46, \"12-Month Inflation\": 4.07, \"Nominal GDP prices (Ksh Million)\": 1833511.0, \"Annual GDP growth (%)\": 6.9, \"Real GDP prices (Ksh Million)\": 1336849.0, \"Volume\": \"13,924\", \"Value (Kshs Millions)\": 682494.0}, {\"Year\": 2007, \"Month\": \"May\", \"Annual Average Inflation\": 4.47, \"12-Month Inflation\": 1.96, \"Nominal GDP prices (Ksh Million)\": 1833511.0, \"Annual GDP growth (%)\": 6.9, \"Real GDP prices (Ksh Million)\": 1336849.0, \"Volume\": \"15,070\", \"Value (Kshs Millions)\": 692503.0}, {\"Year\": 2007, \"Month\": \"April\", \"Annual Average Inflation\": 4.69, \"12-Month Inflation\": 1.85, \"Nominal GDP prices (Ksh Million)\": 1833511.0, \"Annual GDP growth (%)\": 6.9, \"Real GDP prices (Ksh Million)\": 1336849.0, \"Volume\": \"13,349\", \"Value (Kshs Millions)\": 673100.0}, {\"Year\": 2007, \"Month\": \"March\", \"Annual Average Inflation\": 4.99, \"12-Month Inflation\": 2.19, \"Nominal GDP prices (Ksh Million)\": 1833511.0, \"Annual GDP growth (%)\": 6.9, \"Real GDP prices (Ksh Million)\": 1336849.0, \"Volume\": \"14,402\", \"Value (Kshs Millions)\": 667776.0}, {\"Year\": 2007, \"Month\": \"February\", \"Annual Average Inflation\": 5.55, \"12-Month Inflation\": 3.02, \"Nominal GDP prices (Ksh Million)\": 1833511.0, \"Annual GDP growth (%)\": 6.9, \"Real GDP prices (Ksh Million)\": 1336849.0, \"Volume\": \"12,864\", \"Value (Kshs Millions)\": 621032.0}, {\"Year\": 2007, \"Month\": \"January\", \"Annual Average Inflation\": 6.08, \"12-Month Inflation\": 4.63, \"Nominal GDP prices (Ksh Million)\": 1833511.0, \"Annual GDP growth (%)\": 6.9, \"Real GDP prices (Ksh Million)\": 1336849.0, \"Volume\": \"12,960\", \"Value (Kshs Millions)\": 603794.0}, {\"Year\": 2006, \"Month\": \"December\", \"Annual Average Inflation\": 6.39, \"12-Month Inflation\": 7.98, \"Nominal GDP prices (Ksh Million)\": 1622565.0, \"Annual GDP growth (%)\": 6.5, \"Real GDP prices (Ksh Million)\": 1249470.0, \"Volume\": \"12,782\", \"Value (Kshs Millions)\": 698928.0}, {\"Year\": 2006, \"Month\": \"November\", \"Annual Average Inflation\": 6.12, \"12-Month Inflation\": 6.64, \"Nominal GDP prices (Ksh Million)\": 1622565.0, \"Annual GDP growth (%)\": 6.5, \"Real GDP prices (Ksh Million)\": 1249470.0, \"Volume\": \"12,927\", \"Value (Kshs Millions)\": 715570.0}, {\"Year\": 2006, \"Month\": \"October\", \"Annual Average Inflation\": 5.94, \"12-Month Inflation\": 6.55, \"Nominal GDP prices (Ksh Million)\": 1622565.0, \"Annual GDP growth (%)\": 6.5, \"Real GDP prices (Ksh Million)\": 1249470.0, \"Volume\": \"11,720\", \"Value (Kshs Millions)\": 606135.0}, {\"Year\": 2006, \"Month\": \"September\", \"Annual Average Inflation\": 5.7, \"12-Month Inflation\": 5.93, \"Nominal GDP prices (Ksh Million)\": 1622565.0, \"Annual GDP growth (%)\": 6.5, \"Real GDP prices (Ksh Million)\": 1249470.0, \"Volume\": \"11,744\", \"Value (Kshs Millions)\": 571402.0}, {\"Year\": 2006, \"Month\": \"August\", \"Annual Average Inflation\": 5.57, \"12-Month Inflation\": 4.92, \"Nominal GDP prices (Ksh Million)\": 1622565.0, \"Annual GDP growth (%)\": 6.5, \"Real GDP prices (Ksh Million)\": 1249470.0, \"Volume\": \"11,863\", \"Value (Kshs Millions)\": 575771.0}, {\"Year\": 2006, \"Month\": \"July\", \"Annual Average Inflation\": 5.73, \"12-Month Inflation\": 4.16, \"Nominal GDP prices (Ksh Million)\": 1622565.0, \"Annual GDP growth (%)\": 6.5, \"Real GDP prices (Ksh Million)\": 1249470.0, \"Volume\": \"11,859\", \"Value (Kshs Millions)\": 820498.0}, {\"Year\": 2006, \"Month\": \"June\", \"Annual Average Inflation\": 6.33, \"12-Month Inflation\": 4.28, \"Nominal GDP prices (Ksh Million)\": 1622565.0, \"Annual GDP growth (%)\": 6.5, \"Real GDP prices (Ksh Million)\": 1249470.0, \"Volume\": \"12,360\", \"Value (Kshs Millions)\": 839151.0}, {\"Year\": 2006, \"Month\": \"May\", \"Annual Average Inflation\": 6.95, \"12-Month Inflation\": 4.47, \"Nominal GDP prices (Ksh Million)\": 1622565.0, \"Annual GDP growth (%)\": 6.5, \"Real GDP prices (Ksh Million)\": 1249470.0, \"Volume\": \"13,487\", \"Value (Kshs Millions)\": 1115310.0}, {\"Year\": 2006, \"Month\": \"April\", \"Annual Average Inflation\": 7.77, \"12-Month Inflation\": 5.44, \"Nominal GDP prices (Ksh Million)\": 1622565.0, \"Annual GDP growth (%)\": 6.5, \"Real GDP prices (Ksh Million)\": 1249470.0, \"Volume\": \"10,484\", \"Value (Kshs Millions)\": 632740.0}, {\"Year\": 2006, \"Month\": \"March\", \"Annual Average Inflation\": 8.61, \"12-Month Inflation\": 8.85, \"Nominal GDP prices (Ksh Million)\": 1622565.0, \"Annual GDP growth (%)\": 6.5, \"Real GDP prices (Ksh Million)\": 1249470.0, \"Volume\": \"11,951\", \"Value (Kshs Millions)\": 742922.0}, {\"Year\": 2006, \"Month\": \"February\", \"Annual Average Inflation\": 9.01, \"12-Month Inflation\": 9.39, \"Nominal GDP prices (Ksh Million)\": 1622565.0, \"Annual GDP growth (%)\": 6.5, \"Real GDP prices (Ksh Million)\": 1249470.0, \"Volume\": \"10,696\", \"Value (Kshs Millions)\": 620315.0}, {\"Year\": 2006, \"Month\": \"January\", \"Annual Average Inflation\": 9.36, \"12-Month Inflation\": 8.39, \"Nominal GDP prices (Ksh Million)\": 1622565.0, \"Annual GDP growth (%)\": 6.5, \"Real GDP prices (Ksh Million)\": 1249470.0, \"Volume\": \"10,575\", \"Value (Kshs Millions)\": 624525.0}, {\"Year\": 2005, \"Month\": \"December\", \"Annual Average Inflation\": 9.87, \"12-Month Inflation\": 4.7, \"Nominal GDP prices (Ksh Million)\": 1415823.0, \"Annual GDP growth (%)\": 5.7, \"Real GDP prices (Ksh Million)\": 1172784.0, \"Volume\": \"10,733\", \"Value (Kshs Millions)\": 615394.0}, {\"Year\": 2005, \"Month\": \"November\", \"Annual Average Inflation\": 10.89, \"12-Month Inflation\": 4.4, \"Nominal GDP prices (Ksh Million)\": 1415823.0, \"Annual GDP growth (%)\": 5.7, \"Real GDP prices (Ksh Million)\": 1172784.0, \"Volume\": \"9,715\", \"Value (Kshs Millions)\": 558206.0}, {\"Year\": 2005, \"Month\": \"October\", \"Annual Average Inflation\": 11.99, \"12-Month Inflation\": 3.72, \"Nominal GDP prices (Ksh Million)\": 1415823.0, \"Annual GDP growth (%)\": 5.7, \"Real GDP prices (Ksh Million)\": 1172784.0, \"Volume\": \"9,522\", \"Value (Kshs Millions)\": 576966.0}, {\"Year\": 2005, \"Month\": \"September\", \"Annual Average Inflation\": 13.24, \"12-Month Inflation\": 4.27, \"Nominal GDP prices (Ksh Million)\": 1415823.0, \"Annual GDP growth (%)\": 5.7, \"Real GDP prices (Ksh Million)\": 1172784.0, \"Volume\": \"11,729\", \"Value (Kshs Millions)\": 639421.0}, {\"Year\": 2005, \"Month\": \"August\", \"Annual Average Inflation\": 14.53, \"12-Month Inflation\": 6.87, \"Nominal GDP prices (Ksh Million)\": 1415823.0, \"Annual GDP growth (%)\": 5.7, \"Real GDP prices (Ksh Million)\": 1172784.0, \"Volume\": \"8,999\", \"Value (Kshs Millions)\": 496250.0}]}}, {\"mode\": \"vega-lite\"});\n",
       "</script>"
      ],
      "text/plain": [
       "alt.VConcatChart(...)"
      ]
     },
     "execution_count": 10,
     "metadata": {},
     "output_type": "execute_result"
    }
   ],
   "source": [
    "import altair as alt\n",
    "\n",
    "# Scatter plots for exploring relationships between variables\n",
    "scatter_plot1 = alt.Chart(merged_data).mark_circle(size=60).encode(\n",
    "    x='Annual Average Inflation',\n",
    "    y='Volume',\n",
    "    tooltip=['Annual Average Inflation', 'Volume']\n",
    ").properties(\n",
    "    title='Annual Average Inflation vs. Transaction Volume'\n",
    ")\n",
    "\n",
    "scatter_plot2 = alt.Chart(merged_data).mark_circle(size=60).encode(\n",
    "    x='Annual GDP growth (%)',\n",
    "    y='Volume',\n",
    "    tooltip=['Annual GDP growth (%)', 'Volume']\n",
    ").properties(\n",
    "    title='Annual GDP Growth vs. Transaction Volume'\n",
    ")\n",
    "\n",
    "scatter_plot3 = alt.Chart(merged_data).mark_circle(size=60).encode(\n",
    "    x='Annual Average Inflation',\n",
    "    y='Value (Kshs Millions)',\n",
    "    tooltip=['Annual Average Inflation', 'Value (Kshs Millions)']\n",
    ").properties(\n",
    "    title='Annual Average Inflation vs. Transaction Value'\n",
    ")\n",
    "\n",
    "scatter_plot4 = alt.Chart(merged_data).mark_circle(size=60).encode(\n",
    "    x='Annual GDP growth (%)',\n",
    "    y='Value (Kshs Millions)',\n",
    "    tooltip=['Annual GDP growth (%)', 'Value (Kshs Millions)']\n",
    ").properties(\n",
    "    title='Annual GDP Growth vs. Transaction Value'\n",
    ")\n",
    "\n",
    "# Combine scatter plots into a single chart\n",
    "scatter_plots = (scatter_plot1 | scatter_plot2) & (scatter_plot3 | scatter_plot4)\n",
    "\n",
    "scatter_plots"
   ]
  },
  {
   "cell_type": "code",
   "execution_count": null,
   "id": "4bf0de0a-59d2-4af0-b457-589f0b81a697",
   "metadata": {},
   "outputs": [],
   "source": []
  },
  {
   "cell_type": "code",
   "execution_count": null,
   "id": "250885ba-1ed2-4f8a-9130-126966c2d43d",
   "metadata": {},
   "outputs": [],
   "source": []
  },
  {
   "cell_type": "code",
   "execution_count": null,
   "id": "50fd5561-735e-4463-8293-2f1016da8866",
   "metadata": {},
   "outputs": [],
   "source": []
  },
  {
   "cell_type": "code",
   "execution_count": null,
   "id": "3509811f-c4f9-4e9d-b487-b7b06675c980",
   "metadata": {},
   "outputs": [],
   "source": []
  },
  {
   "cell_type": "code",
   "execution_count": null,
   "id": "6283dd8d-7094-46cc-8d92-866661e9222c",
   "metadata": {},
   "outputs": [],
   "source": []
  },
  {
   "cell_type": "code",
   "execution_count": null,
   "id": "31b09c8c-b231-484e-bfbb-4e51d7c71b5e",
   "metadata": {},
   "outputs": [],
   "source": []
  },
  {
   "cell_type": "code",
   "execution_count": null,
   "id": "bf430f32-42c6-4435-855b-7bcee2b05916",
   "metadata": {},
   "outputs": [],
   "source": []
  },
  {
   "cell_type": "code",
   "execution_count": null,
   "id": "a68ae38e-011a-453b-a9b6-9ded208575dc",
   "metadata": {},
   "outputs": [],
   "source": []
  },
  {
   "cell_type": "code",
   "execution_count": null,
   "id": "1d3d6381-745a-4c6b-8746-bd02a288ae7c",
   "metadata": {},
   "outputs": [],
   "source": []
  },
  {
   "cell_type": "code",
   "execution_count": null,
   "id": "26ed2d6f-c044-4962-b994-76be26a20692",
   "metadata": {},
   "outputs": [],
   "source": []
  },
  {
   "cell_type": "code",
   "execution_count": null,
   "id": "0a0f1e94-145f-4842-9159-ce07df1a0669",
   "metadata": {},
   "outputs": [],
   "source": []
  },
  {
   "cell_type": "code",
   "execution_count": null,
   "id": "136fe708-7907-4851-90f5-62c2479252ab",
   "metadata": {},
   "outputs": [],
   "source": []
  },
  {
   "cell_type": "code",
   "execution_count": null,
   "id": "bf93f02e-5be0-491e-ac74-110a3c2251d4",
   "metadata": {},
   "outputs": [],
   "source": []
  },
  {
   "cell_type": "code",
   "execution_count": null,
   "id": "e3ff560a-bd4d-4571-bf44-bc35273bc8c3",
   "metadata": {},
   "outputs": [],
   "source": []
  },
  {
   "cell_type": "code",
   "execution_count": null,
   "id": "69f96ad7-b766-4fff-bfcc-9e790160e8e6",
   "metadata": {},
   "outputs": [],
   "source": []
  },
  {
   "cell_type": "code",
   "execution_count": null,
   "id": "aeb18fe7-95ae-40d1-a625-f82a5c1b6bcc",
   "metadata": {},
   "outputs": [],
   "source": []
  },
  {
   "cell_type": "code",
   "execution_count": null,
   "id": "f0e3b235-da2c-46f3-b962-52109b0a41ee",
   "metadata": {},
   "outputs": [],
   "source": []
  },
  {
   "cell_type": "code",
   "execution_count": null,
   "id": "7c00e3ff-780f-4886-ad2f-ca6ae4031e09",
   "metadata": {},
   "outputs": [],
   "source": []
  },
  {
   "cell_type": "code",
   "execution_count": null,
   "id": "92f27445-bf53-4bb7-8ae2-3caf90256e2e",
   "metadata": {},
   "outputs": [],
   "source": []
  },
  {
   "cell_type": "code",
   "execution_count": null,
   "id": "bae30a9e-9112-479c-a08d-4477f134a64c",
   "metadata": {},
   "outputs": [],
   "source": []
  },
  {
   "cell_type": "code",
   "execution_count": null,
   "id": "0591dcf1-25a1-4d32-899c-dbdce7a12501",
   "metadata": {},
   "outputs": [],
   "source": []
  },
  {
   "cell_type": "code",
   "execution_count": null,
   "id": "e8a9ffa2-ebf2-42a1-9971-afd0fb415600",
   "metadata": {},
   "outputs": [],
   "source": []
  },
  {
   "cell_type": "code",
   "execution_count": null,
   "id": "fbf8a49e-e1ea-4631-839b-f4a336e67d42",
   "metadata": {},
   "outputs": [],
   "source": []
  },
  {
   "cell_type": "code",
   "execution_count": null,
   "id": "0a9dd205-9e32-475b-a3e8-34a3d3bf5c5e",
   "metadata": {},
   "outputs": [],
   "source": []
  },
  {
   "cell_type": "code",
   "execution_count": null,
   "id": "5d762e66-a747-4766-9f04-e521f8b81f1a",
   "metadata": {},
   "outputs": [],
   "source": []
  },
  {
   "cell_type": "code",
   "execution_count": null,
   "id": "8991d343-17ab-4ac4-8e5a-1b729cdca494",
   "metadata": {},
   "outputs": [],
   "source": []
  },
  {
   "cell_type": "code",
   "execution_count": null,
   "id": "77a56a7d-d695-4d47-9d05-785e96b57020",
   "metadata": {},
   "outputs": [],
   "source": []
  },
  {
   "cell_type": "code",
   "execution_count": null,
   "id": "815ec58d-5781-4585-afca-a4d461a7c724",
   "metadata": {},
   "outputs": [],
   "source": []
  },
  {
   "cell_type": "code",
   "execution_count": null,
   "id": "c6869091-f042-413b-9530-759ee68a794a",
   "metadata": {},
   "outputs": [],
   "source": []
  },
  {
   "cell_type": "code",
   "execution_count": null,
   "id": "0597b0c1-906d-424c-9a93-2af128573ea6",
   "metadata": {},
   "outputs": [],
   "source": []
  },
  {
   "cell_type": "code",
   "execution_count": null,
   "id": "fcb8d61a-7d89-4eb2-b0ff-c9dd9ffcebf6",
   "metadata": {},
   "outputs": [],
   "source": []
  },
  {
   "cell_type": "code",
   "execution_count": null,
   "id": "7def6e8f-5b9e-4f7c-99c6-99dc7d086ccd",
   "metadata": {},
   "outputs": [],
   "source": []
  },
  {
   "cell_type": "code",
   "execution_count": null,
   "id": "e47a5c71-f0e1-4b5c-9961-5cbc1372da79",
   "metadata": {},
   "outputs": [],
   "source": []
  },
  {
   "cell_type": "code",
   "execution_count": null,
   "id": "0a91d206-8e2a-480a-951d-6f530a9e9edb",
   "metadata": {},
   "outputs": [],
   "source": []
  },
  {
   "cell_type": "code",
   "execution_count": null,
   "id": "6a86f564-cc13-47b8-b11c-05850ac203f8",
   "metadata": {},
   "outputs": [],
   "source": []
  },
  {
   "cell_type": "code",
   "execution_count": null,
   "id": "1c6dbc0e-4f8d-4944-b550-6ddec1aff385",
   "metadata": {},
   "outputs": [],
   "source": []
  },
  {
   "cell_type": "code",
   "execution_count": null,
   "id": "9ac9d680-c00b-49ed-a613-fbab6dcaa5b9",
   "metadata": {},
   "outputs": [],
   "source": []
  },
  {
   "cell_type": "code",
   "execution_count": null,
   "id": "2b13be72-e07a-4d5b-ac58-b6c028bbf2ce",
   "metadata": {},
   "outputs": [],
   "source": []
  },
  {
   "cell_type": "code",
   "execution_count": null,
   "id": "e346c594-720c-428c-81ef-f09a11d1b1b1",
   "metadata": {},
   "outputs": [],
   "source": []
  },
  {
   "cell_type": "code",
   "execution_count": null,
   "id": "07ed1045-0e8d-4c4e-a7a2-eb4bfbf7b82b",
   "metadata": {},
   "outputs": [],
   "source": []
  },
  {
   "cell_type": "code",
   "execution_count": null,
   "id": "2a71f22c-f6da-4a6a-8e66-9ab9d38d16da",
   "metadata": {},
   "outputs": [],
   "source": []
  },
  {
   "cell_type": "code",
   "execution_count": null,
   "id": "66d7aaf3-86a1-4d3f-a0a8-d23c6521faec",
   "metadata": {},
   "outputs": [],
   "source": []
  },
  {
   "cell_type": "code",
   "execution_count": null,
   "id": "0e5601d0-8d5e-4e86-8bac-5a56df67ca26",
   "metadata": {},
   "outputs": [],
   "source": []
  },
  {
   "cell_type": "code",
   "execution_count": null,
   "id": "f1f1726a-4257-484d-ae95-426bb41f8239",
   "metadata": {},
   "outputs": [],
   "source": []
  },
  {
   "cell_type": "code",
   "execution_count": null,
   "id": "ea7cd696-8d98-4306-96e9-071afc1d8c2a",
   "metadata": {},
   "outputs": [],
   "source": []
  },
  {
   "cell_type": "code",
   "execution_count": null,
   "id": "a9aea028-f553-4238-ba5e-091e9f2049ae",
   "metadata": {},
   "outputs": [],
   "source": []
  },
  {
   "cell_type": "code",
   "execution_count": null,
   "id": "c35f8970-5501-4f8a-a2cf-b8b91f25b081",
   "metadata": {},
   "outputs": [],
   "source": []
  },
  {
   "cell_type": "code",
   "execution_count": null,
   "id": "6f49a7b3-258e-41a2-9d69-ba24d0b2a540",
   "metadata": {},
   "outputs": [],
   "source": []
  },
  {
   "cell_type": "code",
   "execution_count": null,
   "id": "7da1a356-1656-4586-9459-483572842167",
   "metadata": {},
   "outputs": [],
   "source": []
  },
  {
   "cell_type": "code",
   "execution_count": null,
   "id": "bf20bb84-94ca-43be-9958-be8cba0cc2c8",
   "metadata": {},
   "outputs": [],
   "source": []
  },
  {
   "cell_type": "code",
   "execution_count": null,
   "id": "baf94ced-b593-4922-a1c6-bfe4f1c80774",
   "metadata": {},
   "outputs": [],
   "source": []
  },
  {
   "cell_type": "code",
   "execution_count": null,
   "id": "83fb12db-15bb-4a2d-9dbc-2c143b929028",
   "metadata": {},
   "outputs": [],
   "source": []
  },
  {
   "cell_type": "code",
   "execution_count": null,
   "id": "1601fa02-9266-4c83-9dac-12a24cbebd09",
   "metadata": {},
   "outputs": [],
   "source": []
  },
  {
   "cell_type": "code",
   "execution_count": null,
   "id": "7f0241fc-b4bf-410c-b0fc-7c4b31ea0f20",
   "metadata": {},
   "outputs": [],
   "source": []
  },
  {
   "cell_type": "code",
   "execution_count": null,
   "id": "e614e80a-206a-4a68-ab73-b60dc05318d9",
   "metadata": {},
   "outputs": [],
   "source": []
  },
  {
   "cell_type": "code",
   "execution_count": null,
   "id": "29eb5343-75c3-490d-b025-40cab06676ec",
   "metadata": {},
   "outputs": [],
   "source": []
  },
  {
   "cell_type": "code",
   "execution_count": null,
   "id": "175afbc5-c746-48ef-904b-a092e30ea431",
   "metadata": {},
   "outputs": [],
   "source": []
  },
  {
   "cell_type": "code",
   "execution_count": null,
   "id": "705b3eda-53a8-4202-9578-3d2634098dc9",
   "metadata": {},
   "outputs": [],
   "source": []
  },
  {
   "cell_type": "code",
   "execution_count": null,
   "id": "0cc3298b-d352-4b76-ac52-88a9f449cee7",
   "metadata": {},
   "outputs": [],
   "source": []
  },
  {
   "cell_type": "code",
   "execution_count": null,
   "id": "c9fa2cbf-9e18-444a-9a0a-40b01c2b0756",
   "metadata": {},
   "outputs": [],
   "source": []
  },
  {
   "cell_type": "code",
   "execution_count": null,
   "id": "3f7c77b1-cdab-4ca7-a13a-29811fe10c11",
   "metadata": {},
   "outputs": [],
   "source": []
  },
  {
   "cell_type": "code",
   "execution_count": null,
   "id": "41a82f39-6875-479e-a2ac-82aa2b6bdf26",
   "metadata": {},
   "outputs": [],
   "source": []
  },
  {
   "cell_type": "code",
   "execution_count": null,
   "id": "4c8a5d72-9fe7-43ba-a5ff-726ae57d610f",
   "metadata": {},
   "outputs": [],
   "source": []
  },
  {
   "cell_type": "code",
   "execution_count": null,
   "id": "7df6c6fc-a5c1-4a19-80e3-906fb5f723bb",
   "metadata": {},
   "outputs": [],
   "source": []
  },
  {
   "cell_type": "code",
   "execution_count": null,
   "id": "d394cd3b-d572-4f20-8528-7ada234ae3c2",
   "metadata": {},
   "outputs": [],
   "source": []
  },
  {
   "cell_type": "code",
   "execution_count": null,
   "id": "2f040bf4-20a7-4308-bb5c-d1990446cbc1",
   "metadata": {},
   "outputs": [],
   "source": []
  },
  {
   "cell_type": "code",
   "execution_count": null,
   "id": "6ff21bbb-a02f-41bb-b00b-5dbb526f1e8e",
   "metadata": {},
   "outputs": [],
   "source": []
  },
  {
   "cell_type": "code",
   "execution_count": null,
   "id": "cc592f44-5435-48a8-a629-1b4f2c391703",
   "metadata": {},
   "outputs": [],
   "source": []
  },
  {
   "cell_type": "code",
   "execution_count": null,
   "id": "e027d79b-8cae-4aa7-8b18-59c517320620",
   "metadata": {},
   "outputs": [],
   "source": []
  },
  {
   "cell_type": "code",
   "execution_count": null,
   "id": "67101044-bbcd-41eb-8a35-fde80859c5e1",
   "metadata": {},
   "outputs": [],
   "source": []
  },
  {
   "cell_type": "code",
   "execution_count": null,
   "id": "b9728506-a3ba-430d-b917-517d91ead257",
   "metadata": {},
   "outputs": [],
   "source": []
  },
  {
   "cell_type": "code",
   "execution_count": null,
   "id": "510a5916-7536-41bc-8a66-49a4333de9a8",
   "metadata": {},
   "outputs": [],
   "source": []
  },
  {
   "cell_type": "code",
   "execution_count": null,
   "id": "f3e3c11a-dcde-4434-bdc6-d6ede7155408",
   "metadata": {},
   "outputs": [],
   "source": []
  },
  {
   "cell_type": "code",
   "execution_count": null,
   "id": "069e5f74-e5f4-4373-a4c3-e26c90be34a3",
   "metadata": {},
   "outputs": [],
   "source": []
  },
  {
   "cell_type": "code",
   "execution_count": null,
   "id": "2912b679-d217-4da9-a8b7-5a93816aa95c",
   "metadata": {},
   "outputs": [],
   "source": []
  },
  {
   "cell_type": "code",
   "execution_count": null,
   "id": "d05647bc-de5a-41e6-81ac-4a42a8f7066c",
   "metadata": {},
   "outputs": [],
   "source": []
  },
  {
   "cell_type": "code",
   "execution_count": null,
   "id": "566ab788-75bc-4337-9829-52dcd38ba961",
   "metadata": {},
   "outputs": [],
   "source": []
  },
  {
   "cell_type": "code",
   "execution_count": null,
   "id": "42b23fd5-3d86-4338-921b-3c100d0ac798",
   "metadata": {},
   "outputs": [],
   "source": []
  },
  {
   "cell_type": "code",
   "execution_count": null,
   "id": "4ca05187-a65f-46df-9f60-a69e4d06906c",
   "metadata": {},
   "outputs": [],
   "source": []
  },
  {
   "cell_type": "code",
   "execution_count": null,
   "id": "faebe667-7250-4171-bb37-6dfa974471a5",
   "metadata": {},
   "outputs": [],
   "source": []
  },
  {
   "cell_type": "code",
   "execution_count": null,
   "id": "1d18e9fa-8cae-4e83-afab-32dc5e58acc1",
   "metadata": {},
   "outputs": [],
   "source": []
  },
  {
   "cell_type": "code",
   "execution_count": null,
   "id": "54d10e04-f19b-40d2-8ab0-f9ea637a0600",
   "metadata": {},
   "outputs": [],
   "source": []
  },
  {
   "cell_type": "code",
   "execution_count": null,
   "id": "680bde91-be71-4dcc-87b5-724be5647d39",
   "metadata": {},
   "outputs": [],
   "source": []
  },
  {
   "cell_type": "code",
   "execution_count": null,
   "id": "54445665-975b-411d-bbff-9a2c81cb2ddb",
   "metadata": {},
   "outputs": [],
   "source": []
  },
  {
   "cell_type": "code",
   "execution_count": null,
   "id": "d9f49fda-3fd0-45b9-824c-260c179aaca5",
   "metadata": {},
   "outputs": [],
   "source": []
  },
  {
   "cell_type": "code",
   "execution_count": null,
   "id": "df08cdaa-04db-4ae1-80f1-5b709a305ea2",
   "metadata": {},
   "outputs": [],
   "source": []
  },
  {
   "cell_type": "code",
   "execution_count": null,
   "id": "a47d2416-2872-478c-baee-9ac121b87c79",
   "metadata": {},
   "outputs": [],
   "source": []
  },
  {
   "cell_type": "code",
   "execution_count": null,
   "id": "04425b78-2dbe-4b23-9f72-7e63cf115d3c",
   "metadata": {},
   "outputs": [],
   "source": []
  },
  {
   "cell_type": "code",
   "execution_count": null,
   "id": "cf8047d6-9e73-4378-9937-ab5704784113",
   "metadata": {},
   "outputs": [],
   "source": []
  },
  {
   "cell_type": "code",
   "execution_count": null,
   "id": "41fe31bb-a3b3-4fb9-9ec5-4597a043633b",
   "metadata": {},
   "outputs": [],
   "source": []
  },
  {
   "cell_type": "code",
   "execution_count": null,
   "id": "df979c7a-efc2-4e5a-8d6f-164d3cf825e1",
   "metadata": {},
   "outputs": [],
   "source": []
  },
  {
   "cell_type": "code",
   "execution_count": null,
   "id": "e5bc15ac-c2f8-4fb0-98e1-c6947391902b",
   "metadata": {},
   "outputs": [],
   "source": []
  },
  {
   "cell_type": "code",
   "execution_count": null,
   "id": "e96ffe35-e588-4818-9103-03a9b967fb8b",
   "metadata": {},
   "outputs": [],
   "source": []
  },
  {
   "cell_type": "code",
   "execution_count": null,
   "id": "0431f339-1e65-4270-8f3f-fe3da20a70d6",
   "metadata": {},
   "outputs": [],
   "source": []
  },
  {
   "cell_type": "code",
   "execution_count": null,
   "id": "7d97b6e8-1095-4da6-ba00-8e8955f93aa7",
   "metadata": {},
   "outputs": [],
   "source": []
  },
  {
   "cell_type": "code",
   "execution_count": null,
   "id": "ea9028f3-07af-4de6-9bf3-6c4cc2569257",
   "metadata": {},
   "outputs": [],
   "source": []
  },
  {
   "cell_type": "code",
   "execution_count": null,
   "id": "55aff59b-173d-4837-b72b-3ce77b413e15",
   "metadata": {},
   "outputs": [],
   "source": []
  },
  {
   "cell_type": "code",
   "execution_count": null,
   "id": "10a5a79e-7963-4a93-9b62-6c1acdf66383",
   "metadata": {},
   "outputs": [],
   "source": []
  },
  {
   "cell_type": "code",
   "execution_count": null,
   "id": "f181b42d-ff28-4637-a080-c1009caab711",
   "metadata": {},
   "outputs": [],
   "source": []
  },
  {
   "cell_type": "code",
   "execution_count": null,
   "id": "e0721b15-4182-48b9-a0c8-ad33da4d8efb",
   "metadata": {},
   "outputs": [],
   "source": []
  },
  {
   "cell_type": "code",
   "execution_count": null,
   "id": "46d2d7ac-f0fa-4e83-979c-7c026ffc99c3",
   "metadata": {},
   "outputs": [],
   "source": []
  },
  {
   "cell_type": "code",
   "execution_count": null,
   "id": "2f1468ab-f46e-4f0f-97b2-5ef5e24d85e0",
   "metadata": {},
   "outputs": [],
   "source": []
  },
  {
   "cell_type": "code",
   "execution_count": null,
   "id": "346327e9-49de-4508-a7df-199acd9fb898",
   "metadata": {},
   "outputs": [],
   "source": []
  },
  {
   "cell_type": "code",
   "execution_count": null,
   "id": "c677430c-7f96-48f9-8131-653d02d7ecb5",
   "metadata": {},
   "outputs": [],
   "source": []
  },
  {
   "cell_type": "code",
   "execution_count": null,
   "id": "846d3585-979e-4fb4-b1bc-17963102362d",
   "metadata": {},
   "outputs": [],
   "source": []
  },
  {
   "cell_type": "code",
   "execution_count": null,
   "id": "5d3c5603-69d6-4f9f-bcda-f463d35d89d8",
   "metadata": {},
   "outputs": [],
   "source": []
  },
  {
   "cell_type": "code",
   "execution_count": null,
   "id": "b1ff0319-ba5f-4fb0-a133-3dec1243094b",
   "metadata": {},
   "outputs": [],
   "source": []
  },
  {
   "cell_type": "code",
   "execution_count": null,
   "id": "19c14f14-fd36-4dc4-8efe-59608013f90c",
   "metadata": {},
   "outputs": [],
   "source": []
  },
  {
   "cell_type": "code",
   "execution_count": null,
   "id": "ee75ef6c-645a-4670-868c-70ae03a7e2d7",
   "metadata": {},
   "outputs": [],
   "source": []
  },
  {
   "cell_type": "code",
   "execution_count": null,
   "id": "8ab20049-5a76-4f19-bc71-11d20c19c6f7",
   "metadata": {},
   "outputs": [],
   "source": []
  },
  {
   "cell_type": "code",
   "execution_count": null,
   "id": "e0dc6b18-f958-4bd1-b50f-99838674cdb5",
   "metadata": {},
   "outputs": [],
   "source": []
  },
  {
   "cell_type": "code",
   "execution_count": null,
   "id": "6ba6c06c-c92f-4ab3-b8f8-5e84a1d7b2a7",
   "metadata": {},
   "outputs": [],
   "source": []
  },
  {
   "cell_type": "code",
   "execution_count": null,
   "id": "febd8d31-54c8-4e54-9c2c-ae1b2cce9b58",
   "metadata": {},
   "outputs": [],
   "source": []
  },
  {
   "cell_type": "code",
   "execution_count": null,
   "id": "cd0e9a4f-f422-4af9-9d99-00d3a9684389",
   "metadata": {},
   "outputs": [],
   "source": []
  },
  {
   "cell_type": "code",
   "execution_count": null,
   "id": "714a3d26-74ec-408f-8542-142d1cc58a97",
   "metadata": {},
   "outputs": [],
   "source": []
  },
  {
   "cell_type": "code",
   "execution_count": null,
   "id": "ea530af3-b6b1-4b64-8ef9-4c8245cd188b",
   "metadata": {},
   "outputs": [],
   "source": []
  },
  {
   "cell_type": "code",
   "execution_count": null,
   "id": "9513fd55-1472-41eb-856d-fc518ef3d9c1",
   "metadata": {},
   "outputs": [],
   "source": []
  },
  {
   "cell_type": "code",
   "execution_count": null,
   "id": "5ec4ef34-5149-4b66-a6e7-17e151a0dcd1",
   "metadata": {},
   "outputs": [],
   "source": []
  },
  {
   "cell_type": "code",
   "execution_count": null,
   "id": "6fc7400b-40d9-48ef-b740-14a31dd71b22",
   "metadata": {},
   "outputs": [],
   "source": []
  },
  {
   "cell_type": "code",
   "execution_count": null,
   "id": "534927fe-72f5-4187-80ad-d217e4e9dd9c",
   "metadata": {},
   "outputs": [],
   "source": []
  },
  {
   "cell_type": "code",
   "execution_count": null,
   "id": "292839f7-fc1e-4904-85dc-e5a938b3796c",
   "metadata": {},
   "outputs": [],
   "source": []
  },
  {
   "cell_type": "code",
   "execution_count": null,
   "id": "409b1696-5554-4139-9f8c-db7be294079b",
   "metadata": {},
   "outputs": [],
   "source": []
  },
  {
   "cell_type": "code",
   "execution_count": null,
   "id": "c7433272-1c9d-4a79-acf4-45689dd42bbc",
   "metadata": {},
   "outputs": [],
   "source": []
  },
  {
   "cell_type": "code",
   "execution_count": null,
   "id": "9248ff51-b585-4f67-b23b-7d4e7b25cb44",
   "metadata": {},
   "outputs": [],
   "source": []
  },
  {
   "cell_type": "code",
   "execution_count": null,
   "id": "47d24c14-151d-4c01-93aa-556358b3490f",
   "metadata": {},
   "outputs": [],
   "source": []
  },
  {
   "cell_type": "code",
   "execution_count": null,
   "id": "59dc0267-4c5b-49ce-9fc4-ff86f09d2a00",
   "metadata": {},
   "outputs": [],
   "source": []
  },
  {
   "cell_type": "code",
   "execution_count": null,
   "id": "5096ee5b-bc6c-4ab5-822a-ef6bf97727ff",
   "metadata": {},
   "outputs": [],
   "source": []
  },
  {
   "cell_type": "code",
   "execution_count": null,
   "id": "fc32fbb5-1b9f-4e18-b42d-84517aace954",
   "metadata": {},
   "outputs": [],
   "source": []
  }
 ],
 "metadata": {
  "kernelspec": {
   "display_name": "Python 3 (ipykernel)",
   "language": "python",
   "name": "python3"
  },
  "language_info": {
   "codemirror_mode": {
    "name": "ipython",
    "version": 3
   },
   "file_extension": ".py",
   "mimetype": "text/x-python",
   "name": "python",
   "nbconvert_exporter": "python",
   "pygments_lexer": "ipython3",
   "version": "3.11.4"
  }
 },
 "nbformat": 4,
 "nbformat_minor": 5
}
