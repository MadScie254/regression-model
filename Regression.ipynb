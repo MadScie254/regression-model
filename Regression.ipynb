{
 "cells": [
  {
   "cell_type": "markdown",
   "id": "a7ab2f71-56e4-4840-a835-8acdcdd5a986",
   "metadata": {},
   "source": [
    "# Predicting Transaction Volumes in Kenya's Electronic Payment System: A Regression Analysis Incorporating GDP and Inflation Data\r\n",
    "\r\n",
    "**Problem Statement:**\r\n",
    "\r\n",
    "In recent years, Kenya has experienced significant growth in electronic payment transactions facilitated through the Kenya Electronic Payment Settlement System Real-Time Gross Settlement (KEPSSRTGS). Understanding the factors influencing transaction volumes and values in the KEPSSRTGS system is essential for financial institutions and policymakers to make informed decisions and optimize financial operations.\r\n",
    "\r\n",
    "To this end, the aim of this project is to build a regression model that predicts transaction volumes or values in the KEPSSRTGS system based on economic indicators, specifically GDP and inflation rates in Kenya. By analyzing the relationship between transaction activity, GDP growth, and inflation, we can identify the key drivers of electronic payment transactions and anticipate future transaction trends.\r\n",
    "\r\n",
    "**Dataset:**\r\n",
    "- We have access to three datasets: one containing information about transaction volumes and values related to KEPSSRTGS, another containing GDP data for Kenya, and a third containing inflation rates in Kenya. Each dataset spans from January 2013 to February 2024, with monthly granularity.\r\n",
    "\r\n",
    "**Objective:**\r\n",
    "- Develop a regression model that predicts transaction volumes or values in the KEPSSRTGS system based on GDP and inflation data.\r\n",
    "- Understand the impact of GDP growth and inflation on transaction activity in the KEPSSRTGS system.\r\n",
    "- Provide insights and recommendations for financial institutions and policymakers to optimize electronic payment operations and promote financial stability.\r\n",
    "\r\n",
    "**Approach:**\r\n",
    "1. **Data Preprocessing**: Clean and preprocess the datasets, handle missing values, outliers, and ensure compatibility for merging.\r\n",
    "2. **Merge Datasets**: Combine the datasets based on the \"Year\" and \"Month\" columns to create a unified dataset.\r\n",
    "3. **Feature Engineering**: Create new features or derive additional information from the merged dataset, such as GDP growth rate and inflation trends.\r\n",
    "4. **Model Selection**: Choose a regression algorithm suitable for the dataset, such as linear regression or ridge regression.\r\n",
    "5. **Model Training**: Train the regression model using the merged dataset, with transaction volumes/values as the dependent variable and GDP, inflation, and other relevant features as independent variables.\r\n",
    "6. **Model Evaluation**: Evaluate the performance of the trained regression model using metrics such as mean squared error (MSE) or R-squared.\r\n",
    "7. **Fine-Tuning and Validation**: Fine-tune the model parameters if necessary and validate the model's performance using cross-validation techniques.\r\n",
    "8. **Prediction and Interpretation**: Use the trained model to make predictions on new or future data, and interpret the results to understand the impact of GDP and inflation on transaction activity.\r\n",
    "\r\n",
    "**Expected Outcome:**\r\n",
    "- A regression model that accurately predicts transaction volumes or values in the KEPSSRTGS system based on GDP and inflation data.\r\n",
    "- Insights into the relationship between transaction activity, GDP growth, and inflation in Kenya.\r\n",
    "- Recommendations for financial institutions and policymakers to optimize electronic payment operations andconomic growth and development.way towards a brighter future.nomic growth and development."
   ]
  },
  {
   "cell_type": "markdown",
   "id": "a14a8d8e-4a5c-4cd9-9035-31f6e7b736f6",
   "metadata": {},
   "source": [
    "## Data Cleaning"
   ]
  },
  {
   "cell_type": "code",
   "execution_count": 6,
   "id": "55ec1cde-4f00-4303-8f6a-d3f610c22ca0",
   "metadata": {},
   "outputs": [
    {
     "name": "stdout",
     "output_type": "stream",
     "text": [
      "Cleaning Inflation Rates dataset...\n",
      "No missing values found.\n",
      "No outlier handling implemented.\n",
      "No inconsistencies addressed.\n",
      "Inflation Rates dataset cleaned.\n",
      "\n",
      "Cleaning Annual GDP dataset...\n",
      "No missing values found.\n",
      "No outlier handling implemented.\n",
      "No inconsistencies addressed.\n",
      "Annual GDP dataset cleaned.\n",
      "\n",
      "Cleaning KEPSSRTGS dataset...\n",
      "No missing values found.\n",
      "No outlier handling implemented.\n",
      "No inconsistencies addressed.\n",
      "KEPSSRTGS dataset cleaned.\n"
     ]
    }
   ],
   "source": [
    "import pandas as pd\n",
    "\n",
    "# Load the datasets\n",
    "inflation_data = pd.read_csv('inflation_rates.csv')\n",
    "gdp_data = pd.read_csv('annual_gdp.csv')\n",
    "kepssrtgs_data = pd.read_csv('kepssrtgs.csv')\n",
    "\n",
    "# Function to handle missing values\n",
    "def handle_missing_values(df):\n",
    "    # Check for missing values\n",
    "    missing_values = df.isnull().sum()\n",
    "    if missing_values.sum() > 0:\n",
    "        print(\"Handling missing values...\")\n",
    "        # Impute missing values using forward filling\n",
    "        df.fillna(method='ffill', inplace=True)\n",
    "        print(\"Missing values handled.\")\n",
    "    else:\n",
    "        print(\"No missing values found.\")\n",
    "\n",
    "# Function to handle outliers\n",
    "def handle_outliers(df):\n",
    "    # Outlier detection and handling code can be added here based on specific requirements.\n",
    "    # For simplicity, let's assume outliers are not a concern in this example.\n",
    "    print(\"No outlier handling implemented.\")\n",
    "\n",
    "# Function to address inconsistencies\n",
    "def address_inconsistencies(df):\n",
    "    # Check for inconsistencies in data formats or values\n",
    "    # No specific inconsistencies identified in this example.\n",
    "    print(\"No inconsistencies addressed.\")\n",
    "\n",
    "# Clean Inflation Rates dataset\n",
    "print(\"Cleaning Inflation Rates dataset...\")\n",
    "handle_missing_values(inflation_data)\n",
    "handle_outliers(inflation_data)\n",
    "address_inconsistencies(inflation_data)\n",
    "print(\"Inflation Rates dataset cleaned.\\n\")\n",
    "\n",
    "# Clean Annual GDP dataset\n",
    "print(\"Cleaning Annual GDP dataset...\")\n",
    "handle_missing_values(gdp_data)\n",
    "handle_outliers(gdp_data)\n",
    "address_inconsistencies(gdp_data)\n",
    "print(\"Annual GDP dataset cleaned.\\n\")\n",
    "\n",
    "# Clean KEPSSRTGS dataset\n",
    "print(\"Cleaning KEPSSRTGS dataset...\")\n",
    "handle_missing_values(kepssrtgs_data)\n",
    "handle_outliers(kepssrtgs_data)\n",
    "address_inconsistencies(kepssrtgs_data)\n",
    "print(\"KEPSSRTGS dataset cleaned.\")"
   ]
  },
  {
   "cell_type": "markdown",
   "id": "3483af19-dcc7-47b2-ba9a-1ccc57b7e490",
   "metadata": {},
   "source": [
    "## Merging Datasets"
   ]
  },
  {
   "cell_type": "code",
   "execution_count": 7,
   "id": "882bad82-453c-4f8b-966e-f3bf9441a64d",
   "metadata": {},
   "outputs": [
    {
     "name": "stdout",
     "output_type": "stream",
     "text": [
      "Column names in inflation_data: Index(['Year', 'Month', 'Annual Average Inflation', '12-Month Inflation'], dtype='object')\n",
      "Column names in gdp_data: Index(['Year', 'Nominal GDP prices (Ksh Million)', 'Annual GDP growth (%)',\n",
      "       'Real GDP prices (Ksh Million)'],\n",
      "      dtype='object')\n",
      "Column names in kepssrtgs_data: Index(['Year', 'Month    ', 'Volume', 'Value (Kshs Millions)'], dtype='object')\n"
     ]
    }
   ],
   "source": [
    "# Check column names in each dataset\n",
    "print(\"Column names in inflation_data:\", inflation_data.columns)\n",
    "print(\"Column names in gdp_data:\", gdp_data.columns)\n",
    "print(\"Column names in kepssrtgs_data:\", kepssrtgs_data.columns)"
   ]
  },
  {
   "cell_type": "code",
   "execution_count": 8,
   "id": "31ebac13-94d5-4794-a869-6f959f9a88ff",
   "metadata": {},
   "outputs": [
    {
     "name": "stdout",
     "output_type": "stream",
     "text": [
      "Merged Dataset Information:\n",
      "<class 'pandas.core.frame.DataFrame'>\n",
      "RangeIndex: 211 entries, 0 to 210\n",
      "Data columns (total 9 columns):\n",
      " #   Column                            Non-Null Count  Dtype  \n",
      "---  ------                            --------------  -----  \n",
      " 0   Year                              211 non-null    int64  \n",
      " 1   Month                             211 non-null    object \n",
      " 2   Annual Average Inflation          211 non-null    float64\n",
      " 3   12-Month Inflation                211 non-null    float64\n",
      " 4   Nominal GDP prices (Ksh Million)  211 non-null    object \n",
      " 5   Annual GDP growth (%)             211 non-null    float64\n",
      " 6   Real GDP prices (Ksh Million)     211 non-null    object \n",
      " 7   Volume                            211 non-null    object \n",
      " 8   Value (Kshs Millions)             211 non-null    float64\n",
      "dtypes: float64(4), int64(1), object(4)\n",
      "memory usage: 15.0+ KB\n",
      "None\n",
      "\n",
      "First few rows of the merged dataset:\n",
      "   Year      Month  Annual Average Inflation  12-Month Inflation  \\\n",
      "0  2022   December                      7.66                9.06   \n",
      "1  2022   November                      7.38                9.48   \n",
      "2  2022    October                      7.48                9.59   \n",
      "3  2022  September                      6.81                9.18   \n",
      "4  2022     August                      6.61                8.53   \n",
      "\n",
      "  Nominal GDP prices (Ksh Million)  Annual GDP growth (%)  \\\n",
      "0                       13,483,003                    4.8   \n",
      "1                       13,483,003                    4.8   \n",
      "2                       13,483,003                    4.8   \n",
      "3                       13,483,003                    4.8   \n",
      "4                       13,483,003                    4.8   \n",
      "\n",
      "  Real GDP prices (Ksh Million)   Volume  Value (Kshs Millions)  \n",
      "0                     9,851,329  651,484             3346761.00  \n",
      "1                     9,851,329  637,546             3350286.75  \n",
      "2                     9,851,329  598,925             2989334.81  \n",
      "3                     9,851,329  609,514             3376713.00  \n",
      "4                     9,851,329  587,315             3376618.49  \n"
     ]
    }
   ],
   "source": [
    "# Remove leading and trailing spaces from column names in KEPSSRTGS dataset\n",
    "kepssrtgs_data.columns = kepssrtgs_data.columns.str.strip()\n",
    "\n",
    "# Merge datasets based on 'Year' and 'Month'\n",
    "merged_data = inflation_data.merge(gdp_data, on=['Year'], suffixes=('_inflation', '_gdp'))\n",
    "merged_data = merged_data.merge(kepssrtgs_data, on=['Year', 'Month'])\n",
    "\n",
    "# Display merged dataset information\n",
    "print(\"Merged Dataset Information:\")\n",
    "print(merged_data.info())\n",
    "\n",
    "# Display first few rows of the merged dataset\n",
    "print(\"\\nFirst few rows of the merged dataset:\")\n",
    "print(merged_data.head())"
   ]
  },
  {
   "cell_type": "markdown",
   "id": "0c5d24da-1819-4845-8cba-3aa0b007f8df",
   "metadata": {},
   "source": [
    "The datasets have been successfully merged, and the merged dataset now contains 211 entries with 9 columns. Here's a brief overview of the merged dataset:\r\n",
    "\r\n",
    "- The \"Year\" and \"Month\" columns represent the year and month of the recorded data, respectively.\r\n",
    "- The \"Annual Average Inflation\" and \"12-Month Inflation\" columns contain inflation rate data.\r\n",
    "- The \"Nominal GDP prices (Ksh Million)\" and \"Real GDP prices (Ksh Million)\" columns represent GDP values at current market prices and adjusted for inflation, respectively.\r\n",
    "- The \"Annual GDP growth (%)\" column represents the annual GDP growth rate.\r\n",
    "- The \"Volume\" column represents the number of transactions made during a particular month.\r\n",
    "- The \"Value (Kshs Millions)\" column represents the total value of transactions made during a specific month, measured in Kenyan Shillings (Kshs) millions.\r\n",
    "\r\n",
    "The data types of the columns seem appropriate, except for the columns \"Nominal GDP prices (Ksh Million)\" and \"Real GDP prices (Ksh Million)\" which are currently of type object. These columns should be converted to numeric type for further analysis.\r\n",
    "\r\n",
    "Let's convert these columns to numeric type and proceed with further pretional preprocessing steps!"
   ]
  },
  {
   "cell_type": "code",
   "execution_count": 9,
   "id": "3c4c7f35-318b-4f39-811f-c523ba4f5b53",
   "metadata": {},
   "outputs": [
    {
     "name": "stdout",
     "output_type": "stream",
     "text": [
      "\n",
      "Data types of columns after conversion:\n",
      "Year                                  int64\n",
      "Month                                object\n",
      "Annual Average Inflation            float64\n",
      "12-Month Inflation                  float64\n",
      "Nominal GDP prices (Ksh Million)    float64\n",
      "Annual GDP growth (%)               float64\n",
      "Real GDP prices (Ksh Million)       float64\n",
      "Volume                               object\n",
      "Value (Kshs Millions)               float64\n",
      "dtype: object\n",
      "\n",
      "First few rows of the merged dataset after conversion:\n",
      "   Year      Month  Annual Average Inflation  12-Month Inflation  \\\n",
      "0  2022   December                      7.66                9.06   \n",
      "1  2022   November                      7.38                9.48   \n",
      "2  2022    October                      7.48                9.59   \n",
      "3  2022  September                      6.81                9.18   \n",
      "4  2022     August                      6.61                8.53   \n",
      "\n",
      "   Nominal GDP prices (Ksh Million)  Annual GDP growth (%)  \\\n",
      "0                        13483003.0                    4.8   \n",
      "1                        13483003.0                    4.8   \n",
      "2                        13483003.0                    4.8   \n",
      "3                        13483003.0                    4.8   \n",
      "4                        13483003.0                    4.8   \n",
      "\n",
      "   Real GDP prices (Ksh Million)   Volume  Value (Kshs Millions)  \n",
      "0                      9851329.0  651,484             3346761.00  \n",
      "1                      9851329.0  637,546             3350286.75  \n",
      "2                      9851329.0  598,925             2989334.81  \n",
      "3                      9851329.0  609,514             3376713.00  \n",
      "4                      9851329.0  587,315             3376618.49  \n"
     ]
    }
   ],
   "source": [
    "# Convert 'Nominal GDP prices (Ksh Million)' and 'Real GDP prices (Ksh Million)' columns to numeric\n",
    "merged_data['Nominal GDP prices (Ksh Million)'] = merged_data['Nominal GDP prices (Ksh Million)'].str.replace(',', '').astype(float)\n",
    "merged_data['Real GDP prices (Ksh Million)'] = merged_data['Real GDP prices (Ksh Million)'].str.replace(',', '').astype(float)\n",
    "\n",
    "# Display data types of columns after conversion\n",
    "print(\"\\nData types of columns after conversion:\")\n",
    "print(merged_data.dtypes)\n",
    "\n",
    "# Display first few rows of the merged dataset after conversion\n",
    "print(\"\\nFirst few rows of the merged dataset after conversion:\")\n",
    "print(merged_data.head())"
   ]
  },
  {
   "cell_type": "code",
   "execution_count": null,
   "id": "2538deeb-c6c1-457b-978f-c4cc272e0065",
   "metadata": {},
   "outputs": [],
   "source": []
  },
  {
   "cell_type": "code",
   "execution_count": null,
   "id": "cda36784-e7c4-463e-8fca-5c73738b14bd",
   "metadata": {},
   "outputs": [],
   "source": []
  },
  {
   "cell_type": "code",
   "execution_count": null,
   "id": "09018d01-acb6-49dc-bdf9-f35d6608df3e",
   "metadata": {},
   "outputs": [],
   "source": []
  },
  {
   "cell_type": "code",
   "execution_count": null,
   "id": "5b3f22e3-2a65-4197-8df8-4e594036a744",
   "metadata": {},
   "outputs": [],
   "source": []
  },
  {
   "cell_type": "code",
   "execution_count": null,
   "id": "b409d7eb-8896-48d4-b613-0c241c2bc7bd",
   "metadata": {},
   "outputs": [],
   "source": []
  },
  {
   "cell_type": "code",
   "execution_count": null,
   "id": "86b8a741-2d3b-4e72-b256-66500c87c4ce",
   "metadata": {},
   "outputs": [],
   "source": []
  },
  {
   "cell_type": "code",
   "execution_count": null,
   "id": "825803b3-3f15-40c8-abdf-a42dbf49c545",
   "metadata": {},
   "outputs": [],
   "source": []
  },
  {
   "cell_type": "code",
   "execution_count": null,
   "id": "ee10f3ae-a47e-45c8-88bb-a74052a6d51a",
   "metadata": {},
   "outputs": [],
   "source": []
  },
  {
   "cell_type": "code",
   "execution_count": null,
   "id": "5db00e45-301e-4f25-b78f-0d5ded0cead5",
   "metadata": {},
   "outputs": [],
   "source": []
  },
  {
   "cell_type": "code",
   "execution_count": null,
   "id": "8d248cc0-4cee-4b98-81bc-be8cdda9c94c",
   "metadata": {},
   "outputs": [],
   "source": []
  },
  {
   "cell_type": "code",
   "execution_count": null,
   "id": "4bf0de0a-59d2-4af0-b457-589f0b81a697",
   "metadata": {},
   "outputs": [],
   "source": []
  },
  {
   "cell_type": "code",
   "execution_count": null,
   "id": "250885ba-1ed2-4f8a-9130-126966c2d43d",
   "metadata": {},
   "outputs": [],
   "source": []
  },
  {
   "cell_type": "code",
   "execution_count": null,
   "id": "50fd5561-735e-4463-8293-2f1016da8866",
   "metadata": {},
   "outputs": [],
   "source": []
  },
  {
   "cell_type": "code",
   "execution_count": null,
   "id": "3509811f-c4f9-4e9d-b487-b7b06675c980",
   "metadata": {},
   "outputs": [],
   "source": []
  },
  {
   "cell_type": "code",
   "execution_count": null,
   "id": "6283dd8d-7094-46cc-8d92-866661e9222c",
   "metadata": {},
   "outputs": [],
   "source": []
  },
  {
   "cell_type": "code",
   "execution_count": null,
   "id": "31b09c8c-b231-484e-bfbb-4e51d7c71b5e",
   "metadata": {},
   "outputs": [],
   "source": []
  },
  {
   "cell_type": "code",
   "execution_count": null,
   "id": "bf430f32-42c6-4435-855b-7bcee2b05916",
   "metadata": {},
   "outputs": [],
   "source": []
  },
  {
   "cell_type": "code",
   "execution_count": null,
   "id": "a68ae38e-011a-453b-a9b6-9ded208575dc",
   "metadata": {},
   "outputs": [],
   "source": []
  },
  {
   "cell_type": "code",
   "execution_count": null,
   "id": "1d3d6381-745a-4c6b-8746-bd02a288ae7c",
   "metadata": {},
   "outputs": [],
   "source": []
  },
  {
   "cell_type": "code",
   "execution_count": null,
   "id": "26ed2d6f-c044-4962-b994-76be26a20692",
   "metadata": {},
   "outputs": [],
   "source": []
  },
  {
   "cell_type": "code",
   "execution_count": null,
   "id": "0a0f1e94-145f-4842-9159-ce07df1a0669",
   "metadata": {},
   "outputs": [],
   "source": []
  },
  {
   "cell_type": "code",
   "execution_count": null,
   "id": "136fe708-7907-4851-90f5-62c2479252ab",
   "metadata": {},
   "outputs": [],
   "source": []
  },
  {
   "cell_type": "code",
   "execution_count": null,
   "id": "bf93f02e-5be0-491e-ac74-110a3c2251d4",
   "metadata": {},
   "outputs": [],
   "source": []
  },
  {
   "cell_type": "code",
   "execution_count": null,
   "id": "e3ff560a-bd4d-4571-bf44-bc35273bc8c3",
   "metadata": {},
   "outputs": [],
   "source": []
  },
  {
   "cell_type": "code",
   "execution_count": null,
   "id": "69f96ad7-b766-4fff-bfcc-9e790160e8e6",
   "metadata": {},
   "outputs": [],
   "source": []
  },
  {
   "cell_type": "code",
   "execution_count": null,
   "id": "aeb18fe7-95ae-40d1-a625-f82a5c1b6bcc",
   "metadata": {},
   "outputs": [],
   "source": []
  },
  {
   "cell_type": "code",
   "execution_count": null,
   "id": "f0e3b235-da2c-46f3-b962-52109b0a41ee",
   "metadata": {},
   "outputs": [],
   "source": []
  },
  {
   "cell_type": "code",
   "execution_count": null,
   "id": "7c00e3ff-780f-4886-ad2f-ca6ae4031e09",
   "metadata": {},
   "outputs": [],
   "source": []
  },
  {
   "cell_type": "code",
   "execution_count": null,
   "id": "92f27445-bf53-4bb7-8ae2-3caf90256e2e",
   "metadata": {},
   "outputs": [],
   "source": []
  },
  {
   "cell_type": "code",
   "execution_count": null,
   "id": "bae30a9e-9112-479c-a08d-4477f134a64c",
   "metadata": {},
   "outputs": [],
   "source": []
  },
  {
   "cell_type": "code",
   "execution_count": null,
   "id": "0591dcf1-25a1-4d32-899c-dbdce7a12501",
   "metadata": {},
   "outputs": [],
   "source": []
  },
  {
   "cell_type": "code",
   "execution_count": null,
   "id": "e8a9ffa2-ebf2-42a1-9971-afd0fb415600",
   "metadata": {},
   "outputs": [],
   "source": []
  },
  {
   "cell_type": "code",
   "execution_count": null,
   "id": "fbf8a49e-e1ea-4631-839b-f4a336e67d42",
   "metadata": {},
   "outputs": [],
   "source": []
  },
  {
   "cell_type": "code",
   "execution_count": null,
   "id": "0a9dd205-9e32-475b-a3e8-34a3d3bf5c5e",
   "metadata": {},
   "outputs": [],
   "source": []
  },
  {
   "cell_type": "code",
   "execution_count": null,
   "id": "5d762e66-a747-4766-9f04-e521f8b81f1a",
   "metadata": {},
   "outputs": [],
   "source": []
  },
  {
   "cell_type": "code",
   "execution_count": null,
   "id": "8991d343-17ab-4ac4-8e5a-1b729cdca494",
   "metadata": {},
   "outputs": [],
   "source": []
  },
  {
   "cell_type": "code",
   "execution_count": null,
   "id": "77a56a7d-d695-4d47-9d05-785e96b57020",
   "metadata": {},
   "outputs": [],
   "source": []
  },
  {
   "cell_type": "code",
   "execution_count": null,
   "id": "815ec58d-5781-4585-afca-a4d461a7c724",
   "metadata": {},
   "outputs": [],
   "source": []
  },
  {
   "cell_type": "code",
   "execution_count": null,
   "id": "c6869091-f042-413b-9530-759ee68a794a",
   "metadata": {},
   "outputs": [],
   "source": []
  },
  {
   "cell_type": "code",
   "execution_count": null,
   "id": "0597b0c1-906d-424c-9a93-2af128573ea6",
   "metadata": {},
   "outputs": [],
   "source": []
  },
  {
   "cell_type": "code",
   "execution_count": null,
   "id": "fcb8d61a-7d89-4eb2-b0ff-c9dd9ffcebf6",
   "metadata": {},
   "outputs": [],
   "source": []
  },
  {
   "cell_type": "code",
   "execution_count": null,
   "id": "7def6e8f-5b9e-4f7c-99c6-99dc7d086ccd",
   "metadata": {},
   "outputs": [],
   "source": []
  },
  {
   "cell_type": "code",
   "execution_count": null,
   "id": "e47a5c71-f0e1-4b5c-9961-5cbc1372da79",
   "metadata": {},
   "outputs": [],
   "source": []
  },
  {
   "cell_type": "code",
   "execution_count": null,
   "id": "0a91d206-8e2a-480a-951d-6f530a9e9edb",
   "metadata": {},
   "outputs": [],
   "source": []
  },
  {
   "cell_type": "code",
   "execution_count": null,
   "id": "6a86f564-cc13-47b8-b11c-05850ac203f8",
   "metadata": {},
   "outputs": [],
   "source": []
  },
  {
   "cell_type": "code",
   "execution_count": null,
   "id": "1c6dbc0e-4f8d-4944-b550-6ddec1aff385",
   "metadata": {},
   "outputs": [],
   "source": []
  },
  {
   "cell_type": "code",
   "execution_count": null,
   "id": "9ac9d680-c00b-49ed-a613-fbab6dcaa5b9",
   "metadata": {},
   "outputs": [],
   "source": []
  },
  {
   "cell_type": "code",
   "execution_count": null,
   "id": "2b13be72-e07a-4d5b-ac58-b6c028bbf2ce",
   "metadata": {},
   "outputs": [],
   "source": []
  },
  {
   "cell_type": "code",
   "execution_count": null,
   "id": "e346c594-720c-428c-81ef-f09a11d1b1b1",
   "metadata": {},
   "outputs": [],
   "source": []
  },
  {
   "cell_type": "code",
   "execution_count": null,
   "id": "07ed1045-0e8d-4c4e-a7a2-eb4bfbf7b82b",
   "metadata": {},
   "outputs": [],
   "source": []
  },
  {
   "cell_type": "code",
   "execution_count": null,
   "id": "2a71f22c-f6da-4a6a-8e66-9ab9d38d16da",
   "metadata": {},
   "outputs": [],
   "source": []
  },
  {
   "cell_type": "code",
   "execution_count": null,
   "id": "66d7aaf3-86a1-4d3f-a0a8-d23c6521faec",
   "metadata": {},
   "outputs": [],
   "source": []
  },
  {
   "cell_type": "code",
   "execution_count": null,
   "id": "0e5601d0-8d5e-4e86-8bac-5a56df67ca26",
   "metadata": {},
   "outputs": [],
   "source": []
  },
  {
   "cell_type": "code",
   "execution_count": null,
   "id": "f1f1726a-4257-484d-ae95-426bb41f8239",
   "metadata": {},
   "outputs": [],
   "source": []
  },
  {
   "cell_type": "code",
   "execution_count": null,
   "id": "ea7cd696-8d98-4306-96e9-071afc1d8c2a",
   "metadata": {},
   "outputs": [],
   "source": []
  },
  {
   "cell_type": "code",
   "execution_count": null,
   "id": "a9aea028-f553-4238-ba5e-091e9f2049ae",
   "metadata": {},
   "outputs": [],
   "source": []
  },
  {
   "cell_type": "code",
   "execution_count": null,
   "id": "c35f8970-5501-4f8a-a2cf-b8b91f25b081",
   "metadata": {},
   "outputs": [],
   "source": []
  },
  {
   "cell_type": "code",
   "execution_count": null,
   "id": "6f49a7b3-258e-41a2-9d69-ba24d0b2a540",
   "metadata": {},
   "outputs": [],
   "source": []
  },
  {
   "cell_type": "code",
   "execution_count": null,
   "id": "7da1a356-1656-4586-9459-483572842167",
   "metadata": {},
   "outputs": [],
   "source": []
  },
  {
   "cell_type": "code",
   "execution_count": null,
   "id": "bf20bb84-94ca-43be-9958-be8cba0cc2c8",
   "metadata": {},
   "outputs": [],
   "source": []
  },
  {
   "cell_type": "code",
   "execution_count": null,
   "id": "baf94ced-b593-4922-a1c6-bfe4f1c80774",
   "metadata": {},
   "outputs": [],
   "source": []
  },
  {
   "cell_type": "code",
   "execution_count": null,
   "id": "83fb12db-15bb-4a2d-9dbc-2c143b929028",
   "metadata": {},
   "outputs": [],
   "source": []
  },
  {
   "cell_type": "code",
   "execution_count": null,
   "id": "1601fa02-9266-4c83-9dac-12a24cbebd09",
   "metadata": {},
   "outputs": [],
   "source": []
  },
  {
   "cell_type": "code",
   "execution_count": null,
   "id": "7f0241fc-b4bf-410c-b0fc-7c4b31ea0f20",
   "metadata": {},
   "outputs": [],
   "source": []
  },
  {
   "cell_type": "code",
   "execution_count": null,
   "id": "e614e80a-206a-4a68-ab73-b60dc05318d9",
   "metadata": {},
   "outputs": [],
   "source": []
  },
  {
   "cell_type": "code",
   "execution_count": null,
   "id": "29eb5343-75c3-490d-b025-40cab06676ec",
   "metadata": {},
   "outputs": [],
   "source": []
  },
  {
   "cell_type": "code",
   "execution_count": null,
   "id": "175afbc5-c746-48ef-904b-a092e30ea431",
   "metadata": {},
   "outputs": [],
   "source": []
  },
  {
   "cell_type": "code",
   "execution_count": null,
   "id": "705b3eda-53a8-4202-9578-3d2634098dc9",
   "metadata": {},
   "outputs": [],
   "source": []
  },
  {
   "cell_type": "code",
   "execution_count": null,
   "id": "0cc3298b-d352-4b76-ac52-88a9f449cee7",
   "metadata": {},
   "outputs": [],
   "source": []
  },
  {
   "cell_type": "code",
   "execution_count": null,
   "id": "c9fa2cbf-9e18-444a-9a0a-40b01c2b0756",
   "metadata": {},
   "outputs": [],
   "source": []
  },
  {
   "cell_type": "code",
   "execution_count": null,
   "id": "3f7c77b1-cdab-4ca7-a13a-29811fe10c11",
   "metadata": {},
   "outputs": [],
   "source": []
  },
  {
   "cell_type": "code",
   "execution_count": null,
   "id": "41a82f39-6875-479e-a2ac-82aa2b6bdf26",
   "metadata": {},
   "outputs": [],
   "source": []
  },
  {
   "cell_type": "code",
   "execution_count": null,
   "id": "4c8a5d72-9fe7-43ba-a5ff-726ae57d610f",
   "metadata": {},
   "outputs": [],
   "source": []
  },
  {
   "cell_type": "code",
   "execution_count": null,
   "id": "7df6c6fc-a5c1-4a19-80e3-906fb5f723bb",
   "metadata": {},
   "outputs": [],
   "source": []
  },
  {
   "cell_type": "code",
   "execution_count": null,
   "id": "d394cd3b-d572-4f20-8528-7ada234ae3c2",
   "metadata": {},
   "outputs": [],
   "source": []
  },
  {
   "cell_type": "code",
   "execution_count": null,
   "id": "2f040bf4-20a7-4308-bb5c-d1990446cbc1",
   "metadata": {},
   "outputs": [],
   "source": []
  },
  {
   "cell_type": "code",
   "execution_count": null,
   "id": "6ff21bbb-a02f-41bb-b00b-5dbb526f1e8e",
   "metadata": {},
   "outputs": [],
   "source": []
  },
  {
   "cell_type": "code",
   "execution_count": null,
   "id": "cc592f44-5435-48a8-a629-1b4f2c391703",
   "metadata": {},
   "outputs": [],
   "source": []
  },
  {
   "cell_type": "code",
   "execution_count": null,
   "id": "e027d79b-8cae-4aa7-8b18-59c517320620",
   "metadata": {},
   "outputs": [],
   "source": []
  },
  {
   "cell_type": "code",
   "execution_count": null,
   "id": "67101044-bbcd-41eb-8a35-fde80859c5e1",
   "metadata": {},
   "outputs": [],
   "source": []
  },
  {
   "cell_type": "code",
   "execution_count": null,
   "id": "b9728506-a3ba-430d-b917-517d91ead257",
   "metadata": {},
   "outputs": [],
   "source": []
  },
  {
   "cell_type": "code",
   "execution_count": null,
   "id": "510a5916-7536-41bc-8a66-49a4333de9a8",
   "metadata": {},
   "outputs": [],
   "source": []
  },
  {
   "cell_type": "code",
   "execution_count": null,
   "id": "f3e3c11a-dcde-4434-bdc6-d6ede7155408",
   "metadata": {},
   "outputs": [],
   "source": []
  },
  {
   "cell_type": "code",
   "execution_count": null,
   "id": "069e5f74-e5f4-4373-a4c3-e26c90be34a3",
   "metadata": {},
   "outputs": [],
   "source": []
  },
  {
   "cell_type": "code",
   "execution_count": null,
   "id": "2912b679-d217-4da9-a8b7-5a93816aa95c",
   "metadata": {},
   "outputs": [],
   "source": []
  },
  {
   "cell_type": "code",
   "execution_count": null,
   "id": "d05647bc-de5a-41e6-81ac-4a42a8f7066c",
   "metadata": {},
   "outputs": [],
   "source": []
  },
  {
   "cell_type": "code",
   "execution_count": null,
   "id": "566ab788-75bc-4337-9829-52dcd38ba961",
   "metadata": {},
   "outputs": [],
   "source": []
  },
  {
   "cell_type": "code",
   "execution_count": null,
   "id": "42b23fd5-3d86-4338-921b-3c100d0ac798",
   "metadata": {},
   "outputs": [],
   "source": []
  },
  {
   "cell_type": "code",
   "execution_count": null,
   "id": "4ca05187-a65f-46df-9f60-a69e4d06906c",
   "metadata": {},
   "outputs": [],
   "source": []
  },
  {
   "cell_type": "code",
   "execution_count": null,
   "id": "faebe667-7250-4171-bb37-6dfa974471a5",
   "metadata": {},
   "outputs": [],
   "source": []
  },
  {
   "cell_type": "code",
   "execution_count": null,
   "id": "1d18e9fa-8cae-4e83-afab-32dc5e58acc1",
   "metadata": {},
   "outputs": [],
   "source": []
  },
  {
   "cell_type": "code",
   "execution_count": null,
   "id": "54d10e04-f19b-40d2-8ab0-f9ea637a0600",
   "metadata": {},
   "outputs": [],
   "source": []
  },
  {
   "cell_type": "code",
   "execution_count": null,
   "id": "680bde91-be71-4dcc-87b5-724be5647d39",
   "metadata": {},
   "outputs": [],
   "source": []
  },
  {
   "cell_type": "code",
   "execution_count": null,
   "id": "54445665-975b-411d-bbff-9a2c81cb2ddb",
   "metadata": {},
   "outputs": [],
   "source": []
  },
  {
   "cell_type": "code",
   "execution_count": null,
   "id": "d9f49fda-3fd0-45b9-824c-260c179aaca5",
   "metadata": {},
   "outputs": [],
   "source": []
  },
  {
   "cell_type": "code",
   "execution_count": null,
   "id": "df08cdaa-04db-4ae1-80f1-5b709a305ea2",
   "metadata": {},
   "outputs": [],
   "source": []
  },
  {
   "cell_type": "code",
   "execution_count": null,
   "id": "a47d2416-2872-478c-baee-9ac121b87c79",
   "metadata": {},
   "outputs": [],
   "source": []
  },
  {
   "cell_type": "code",
   "execution_count": null,
   "id": "04425b78-2dbe-4b23-9f72-7e63cf115d3c",
   "metadata": {},
   "outputs": [],
   "source": []
  },
  {
   "cell_type": "code",
   "execution_count": null,
   "id": "cf8047d6-9e73-4378-9937-ab5704784113",
   "metadata": {},
   "outputs": [],
   "source": []
  },
  {
   "cell_type": "code",
   "execution_count": null,
   "id": "41fe31bb-a3b3-4fb9-9ec5-4597a043633b",
   "metadata": {},
   "outputs": [],
   "source": []
  },
  {
   "cell_type": "code",
   "execution_count": null,
   "id": "df979c7a-efc2-4e5a-8d6f-164d3cf825e1",
   "metadata": {},
   "outputs": [],
   "source": []
  },
  {
   "cell_type": "code",
   "execution_count": null,
   "id": "e5bc15ac-c2f8-4fb0-98e1-c6947391902b",
   "metadata": {},
   "outputs": [],
   "source": []
  },
  {
   "cell_type": "code",
   "execution_count": null,
   "id": "e96ffe35-e588-4818-9103-03a9b967fb8b",
   "metadata": {},
   "outputs": [],
   "source": []
  },
  {
   "cell_type": "code",
   "execution_count": null,
   "id": "0431f339-1e65-4270-8f3f-fe3da20a70d6",
   "metadata": {},
   "outputs": [],
   "source": []
  },
  {
   "cell_type": "code",
   "execution_count": null,
   "id": "7d97b6e8-1095-4da6-ba00-8e8955f93aa7",
   "metadata": {},
   "outputs": [],
   "source": []
  },
  {
   "cell_type": "code",
   "execution_count": null,
   "id": "ea9028f3-07af-4de6-9bf3-6c4cc2569257",
   "metadata": {},
   "outputs": [],
   "source": []
  },
  {
   "cell_type": "code",
   "execution_count": null,
   "id": "55aff59b-173d-4837-b72b-3ce77b413e15",
   "metadata": {},
   "outputs": [],
   "source": []
  },
  {
   "cell_type": "code",
   "execution_count": null,
   "id": "10a5a79e-7963-4a93-9b62-6c1acdf66383",
   "metadata": {},
   "outputs": [],
   "source": []
  },
  {
   "cell_type": "code",
   "execution_count": null,
   "id": "f181b42d-ff28-4637-a080-c1009caab711",
   "metadata": {},
   "outputs": [],
   "source": []
  },
  {
   "cell_type": "code",
   "execution_count": null,
   "id": "e0721b15-4182-48b9-a0c8-ad33da4d8efb",
   "metadata": {},
   "outputs": [],
   "source": []
  },
  {
   "cell_type": "code",
   "execution_count": null,
   "id": "46d2d7ac-f0fa-4e83-979c-7c026ffc99c3",
   "metadata": {},
   "outputs": [],
   "source": []
  },
  {
   "cell_type": "code",
   "execution_count": null,
   "id": "2f1468ab-f46e-4f0f-97b2-5ef5e24d85e0",
   "metadata": {},
   "outputs": [],
   "source": []
  },
  {
   "cell_type": "code",
   "execution_count": null,
   "id": "346327e9-49de-4508-a7df-199acd9fb898",
   "metadata": {},
   "outputs": [],
   "source": []
  },
  {
   "cell_type": "code",
   "execution_count": null,
   "id": "c677430c-7f96-48f9-8131-653d02d7ecb5",
   "metadata": {},
   "outputs": [],
   "source": []
  },
  {
   "cell_type": "code",
   "execution_count": null,
   "id": "846d3585-979e-4fb4-b1bc-17963102362d",
   "metadata": {},
   "outputs": [],
   "source": []
  },
  {
   "cell_type": "code",
   "execution_count": null,
   "id": "5d3c5603-69d6-4f9f-bcda-f463d35d89d8",
   "metadata": {},
   "outputs": [],
   "source": []
  },
  {
   "cell_type": "code",
   "execution_count": null,
   "id": "b1ff0319-ba5f-4fb0-a133-3dec1243094b",
   "metadata": {},
   "outputs": [],
   "source": []
  },
  {
   "cell_type": "code",
   "execution_count": null,
   "id": "19c14f14-fd36-4dc4-8efe-59608013f90c",
   "metadata": {},
   "outputs": [],
   "source": []
  },
  {
   "cell_type": "code",
   "execution_count": null,
   "id": "ee75ef6c-645a-4670-868c-70ae03a7e2d7",
   "metadata": {},
   "outputs": [],
   "source": []
  },
  {
   "cell_type": "code",
   "execution_count": null,
   "id": "8ab20049-5a76-4f19-bc71-11d20c19c6f7",
   "metadata": {},
   "outputs": [],
   "source": []
  },
  {
   "cell_type": "code",
   "execution_count": null,
   "id": "e0dc6b18-f958-4bd1-b50f-99838674cdb5",
   "metadata": {},
   "outputs": [],
   "source": []
  },
  {
   "cell_type": "code",
   "execution_count": null,
   "id": "6ba6c06c-c92f-4ab3-b8f8-5e84a1d7b2a7",
   "metadata": {},
   "outputs": [],
   "source": []
  },
  {
   "cell_type": "code",
   "execution_count": null,
   "id": "febd8d31-54c8-4e54-9c2c-ae1b2cce9b58",
   "metadata": {},
   "outputs": [],
   "source": []
  },
  {
   "cell_type": "code",
   "execution_count": null,
   "id": "cd0e9a4f-f422-4af9-9d99-00d3a9684389",
   "metadata": {},
   "outputs": [],
   "source": []
  },
  {
   "cell_type": "code",
   "execution_count": null,
   "id": "714a3d26-74ec-408f-8542-142d1cc58a97",
   "metadata": {},
   "outputs": [],
   "source": []
  },
  {
   "cell_type": "code",
   "execution_count": null,
   "id": "ea530af3-b6b1-4b64-8ef9-4c8245cd188b",
   "metadata": {},
   "outputs": [],
   "source": []
  },
  {
   "cell_type": "code",
   "execution_count": null,
   "id": "9513fd55-1472-41eb-856d-fc518ef3d9c1",
   "metadata": {},
   "outputs": [],
   "source": []
  },
  {
   "cell_type": "code",
   "execution_count": null,
   "id": "5ec4ef34-5149-4b66-a6e7-17e151a0dcd1",
   "metadata": {},
   "outputs": [],
   "source": []
  },
  {
   "cell_type": "code",
   "execution_count": null,
   "id": "6fc7400b-40d9-48ef-b740-14a31dd71b22",
   "metadata": {},
   "outputs": [],
   "source": []
  },
  {
   "cell_type": "code",
   "execution_count": null,
   "id": "534927fe-72f5-4187-80ad-d217e4e9dd9c",
   "metadata": {},
   "outputs": [],
   "source": []
  },
  {
   "cell_type": "code",
   "execution_count": null,
   "id": "292839f7-fc1e-4904-85dc-e5a938b3796c",
   "metadata": {},
   "outputs": [],
   "source": []
  },
  {
   "cell_type": "code",
   "execution_count": null,
   "id": "409b1696-5554-4139-9f8c-db7be294079b",
   "metadata": {},
   "outputs": [],
   "source": []
  },
  {
   "cell_type": "code",
   "execution_count": null,
   "id": "c7433272-1c9d-4a79-acf4-45689dd42bbc",
   "metadata": {},
   "outputs": [],
   "source": []
  },
  {
   "cell_type": "code",
   "execution_count": null,
   "id": "9248ff51-b585-4f67-b23b-7d4e7b25cb44",
   "metadata": {},
   "outputs": [],
   "source": []
  },
  {
   "cell_type": "code",
   "execution_count": null,
   "id": "47d24c14-151d-4c01-93aa-556358b3490f",
   "metadata": {},
   "outputs": [],
   "source": []
  },
  {
   "cell_type": "code",
   "execution_count": null,
   "id": "59dc0267-4c5b-49ce-9fc4-ff86f09d2a00",
   "metadata": {},
   "outputs": [],
   "source": []
  },
  {
   "cell_type": "code",
   "execution_count": null,
   "id": "5096ee5b-bc6c-4ab5-822a-ef6bf97727ff",
   "metadata": {},
   "outputs": [],
   "source": []
  },
  {
   "cell_type": "code",
   "execution_count": null,
   "id": "fc32fbb5-1b9f-4e18-b42d-84517aace954",
   "metadata": {},
   "outputs": [],
   "source": []
  }
 ],
 "metadata": {
  "kernelspec": {
   "display_name": "Python 3 (ipykernel)",
   "language": "python",
   "name": "python3"
  },
  "language_info": {
   "codemirror_mode": {
    "name": "ipython",
    "version": 3
   },
   "file_extension": ".py",
   "mimetype": "text/x-python",
   "name": "python",
   "nbconvert_exporter": "python",
   "pygments_lexer": "ipython3",
   "version": "3.11.4"
  }
 },
 "nbformat": 4,
 "nbformat_minor": 5
}
